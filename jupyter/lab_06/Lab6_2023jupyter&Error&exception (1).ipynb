{
 "cells": [
  {
   "cell_type": "markdown",
   "metadata": {
    "ExecuteTime": {
     "end_time": "2016-12-02T00:32:55.306505",
     "start_time": "2016-12-02T00:32:55.302502"
    },
    "id": "Vy4laze455UY"
   },
   "source": [
    "# Laboratorium 6\n",
    "# PhD Aneta Polewko-Klim   "
   ]
  },
  {
   "cell_type": "markdown",
   "metadata": {
    "ExecuteTime": {
     "end_time": "2016-12-02T01:30:23.686185",
     "start_time": "2016-12-02T01:30:23.683168"
    },
    "id": "2xwwl0Ny55Ue"
   },
   "source": [
    "# Błędy i wyjątki (errors and exceptions)\n",
    "Wyjątek jest obiektem Pythona reprezentującym błąd. Innymi słowy, jest\n",
    "on niepożądanym zdarzeniem, które pojawia się podczas wykonania programu przerywając jego normalny przebieg. Ilekroć wątek wykonania programu zostanie przerwany, informacja o tym musi zostać zwrócona do wykonawcy programu.\n",
    "\n",
    "\n"
   ]
  },
  {
   "cell_type": "markdown",
   "metadata": {
    "id": "oqLo12vQ55Uf"
   },
   "source": [
    "Dodatkowe materiały (supplementary materials): https://docs.python.org/3/tutorial/errors.html  "
   ]
  },
  {
   "cell_type": "markdown",
   "metadata": {
    "id": "GnSGyIyH55Uf"
   },
   "source": [
    "# Błędy składni / Syntax Errors  \n",
    "\n",
    "Syntax errors, also known as parsing errors."
   ]
  },
  {
   "cell_type": "code",
   "execution_count": null,
   "metadata": {
    "ExecuteTime": {
     "end_time": "2016-12-01T22:40:05.236738",
     "start_time": "2016-12-01T22:40:05.232736"
    },
    "id": "3ZdF92gM55Uf",
    "run_control": {
     "frozen": false,
     "read_only": false
    }
   },
   "outputs": [],
   "source": [
    "while True print('Python')"
   ]
  },
  {
   "cell_type": "code",
   "execution_count": null,
   "metadata": {
    "id": "aaS2sABg941i"
   },
   "outputs": [],
   "source": [
    "a = b("
   ]
  },
  {
   "cell_type": "markdown",
   "metadata": {
    "id": "grHP0que55Uh"
   },
   "source": [
    "# Zapoznaj się z wybranymi błędami, które możesz obsługiwać w formie wyjątków / exceptions"
   ]
  },
  {
   "cell_type": "markdown",
   "metadata": {
    "id": "MBT6U0KQ-R2o"
   },
   "source": [
    "**ZeroDivisionError** - Cause of Error: if second operand of division or modulo operation is zero."
   ]
  },
  {
   "cell_type": "code",
   "execution_count": null,
   "metadata": {
    "ExecuteTime": {
     "end_time": "2016-12-01T22:41:25.332678",
     "start_time": "2016-12-01T22:41:25.248618"
    },
    "id": "V-2UGJ-k55Uh",
    "outputId": "6d5a5146-b6cf-46a5-b803-f60f80a20e94",
    "run_control": {
     "frozen": false,
     "read_only": false
    }
   },
   "outputs": [
    {
     "ename": "ZeroDivisionError",
     "evalue": "division by zero",
     "output_type": "error",
     "traceback": [
      "\u001B[1;31m---------------------------------------------------------------------------\u001B[0m",
      "\u001B[1;31mZeroDivisionError\u001B[0m                         Traceback (most recent call last)",
      "\u001B[1;32m<ipython-input-4-9e1622b385b6>\u001B[0m in \u001B[0;36m<module>\u001B[1;34m()\u001B[0m\n\u001B[1;32m----> 1\u001B[1;33m \u001B[1;36m1\u001B[0m\u001B[1;33m/\u001B[0m\u001B[1;36m0\u001B[0m\u001B[1;33m\u001B[0m\u001B[0m\n\u001B[0m",
      "\u001B[1;31mZeroDivisionError\u001B[0m: division by zero"
     ]
    }
   ],
   "source": [
    "1/0"
   ]
  },
  {
   "cell_type": "markdown",
   "metadata": {
    "id": "7LdcszX2-W7h"
   },
   "source": [
    "**NameError** - if a variable is not found in local or global scope."
   ]
  },
  {
   "cell_type": "code",
   "execution_count": null,
   "metadata": {
    "ExecuteTime": {
     "end_time": "2016-12-01T22:41:35.703669",
     "start_time": "2016-12-01T22:41:35.696654"
    },
    "id": "rq-nnf0455Uh",
    "outputId": "61fe5af7-dc97-4a2b-ee39-e2476a6a59f0",
    "run_control": {
     "frozen": false,
     "read_only": false
    }
   },
   "outputs": [
    {
     "ename": "NameError",
     "evalue": "name 'x' is not defined",
     "output_type": "error",
     "traceback": [
      "\u001B[1;31m---------------------------------------------------------------------------\u001B[0m",
      "\u001B[1;31mNameError\u001B[0m                                 Traceback (most recent call last)",
      "\u001B[1;32m<ipython-input-6-9a02413d325e>\u001B[0m in \u001B[0;36m<module>\u001B[1;34m()\u001B[0m\n\u001B[1;32m----> 1\u001B[1;33m \u001B[1;36m10\u001B[0m \u001B[1;33m+\u001B[0m \u001B[1;36m20\u001B[0m \u001B[1;33m+\u001B[0m \u001B[0mx\u001B[0m\u001B[1;33m\u001B[0m\u001B[0m\n\u001B[0m",
      "\u001B[1;31mNameError\u001B[0m: name 'x' is not defined"
     ]
    }
   ],
   "source": [
    "# var = 5\n",
    "4 + var1*3"
   ]
  },
  {
   "cell_type": "markdown",
   "metadata": {
    "id": "XYndJ3iG-fTB"
   },
   "source": [
    "**TypeError** - if a function or operation is applied to an object of incorrect type."
   ]
  },
  {
   "cell_type": "markdown",
   "metadata": {
    "id": "WsUHwYkL-i4g"
   },
   "source": []
  },
  {
   "cell_type": "code",
   "execution_count": null,
   "metadata": {
    "ExecuteTime": {
     "end_time": "2016-12-01T22:41:41.558807",
     "start_time": "2016-12-01T22:41:41.551793"
    },
    "id": "JRyQqE6355Ui",
    "outputId": "6fc24bac-2b99-4e0f-9bd7-cc7d956c4db6",
    "run_control": {
     "frozen": false,
     "read_only": false
    }
   },
   "outputs": [
    {
     "ename": "TypeError",
     "evalue": "can only concatenate str (not \"int\") to str",
     "output_type": "error",
     "traceback": [
      "\u001B[1;31m---------------------------------------------------------------------------\u001B[0m",
      "\u001B[1;31mTypeError\u001B[0m                                 Traceback (most recent call last)",
      "\u001B[1;32m<ipython-input-8-4ac0513be2aa>\u001B[0m in \u001B[0;36m<module>\u001B[1;34m()\u001B[0m\n\u001B[1;32m----> 1\u001B[1;33m \u001B[1;34m'10'\u001B[0m \u001B[1;33m+\u001B[0m \u001B[1;36m10\u001B[0m\u001B[1;33m\u001B[0m\u001B[0m\n\u001B[0m",
      "\u001B[1;31mTypeError\u001B[0m: can only concatenate str (not \"int\") to str"
     ]
    }
   ],
   "source": [
    "'10' + 10"
   ]
  },
  {
   "cell_type": "code",
   "execution_count": null,
   "metadata": {
    "ExecuteTime": {
     "end_time": "2016-12-02T01:31:18.184826",
     "start_time": "2016-12-02T01:31:18.178824"
    },
    "id": "w3XVkHZO55Ui",
    "outputId": "291bf959-28ac-48fa-a02f-e4288e77a3a5",
    "run_control": {
     "frozen": false,
     "read_only": false
    }
   },
   "outputs": [
    {
     "ename": "TypeError",
     "evalue": "'int' object is not subscriptable",
     "output_type": "error",
     "traceback": [
      "\u001B[1;31m---------------------------------------------------------------------------\u001B[0m",
      "\u001B[1;31mTypeError\u001B[0m                                 Traceback (most recent call last)",
      "\u001B[1;32m<ipython-input-10-53f2da4356f8>\u001B[0m in \u001B[0;36m<module>\u001B[1;34m()\u001B[0m\n\u001B[0;32m      1\u001B[0m \u001B[0mvec\u001B[0m \u001B[1;33m=\u001B[0m \u001B[1;36m1\u001B[0m\u001B[1;33m\u001B[0m\u001B[0m\n\u001B[1;32m----> 2\u001B[1;33m \u001B[0mvec\u001B[0m\u001B[1;33m[\u001B[0m\u001B[1;36m0\u001B[0m\u001B[1;33m]\u001B[0m\u001B[1;33m\u001B[0m\u001B[0m\n\u001B[0m",
      "\u001B[1;31mTypeError\u001B[0m: 'int' object is not subscriptable"
     ]
    }
   ],
   "source": [
    "vec = 1\n",
    "vec[0]"
   ]
  },
  {
   "cell_type": "code",
   "execution_count": null,
   "metadata": {
    "ExecuteTime": {
     "end_time": "2016-12-02T01:32:22.053118",
     "start_time": "2016-12-02T01:32:22.044099"
    },
    "colab": {
     "base_uri": "https://localhost:8080/",
     "height": 204
    },
    "id": "eEP5Hi5I55Ui",
    "outputId": "e3df6df7-34a2-4611-9b22-46e1af8838cd",
    "run_control": {
     "frozen": false,
     "read_only": false
    }
   },
   "outputs": [
    {
     "ename": "TypeError",
     "evalue": "ignored",
     "output_type": "error",
     "traceback": [
      "\u001B[0;31m---------------------------------------------------------------------------\u001B[0m",
      "\u001B[0;31mTypeError\u001B[0m                                 Traceback (most recent call last)",
      "\u001B[0;32m<ipython-input-3-6ec639fbd4c5>\u001B[0m in \u001B[0;36m<module>\u001B[0;34m()\u001B[0m\n\u001B[1;32m      4\u001B[0m \u001B[0ma\u001B[0m\u001B[0;34m,\u001B[0m \u001B[0mb\u001B[0m \u001B[0;34m=\u001B[0m \u001B[0mreturn_tuple\u001B[0m\u001B[0;34m(\u001B[0m\u001B[0;34m)\u001B[0m\u001B[0;34m\u001B[0m\u001B[0;34m\u001B[0m\u001B[0m\n\u001B[1;32m      5\u001B[0m \u001B[0;34m\u001B[0m\u001B[0m\n\u001B[0;32m----> 6\u001B[0;31m \u001B[0ma\u001B[0m\u001B[0;34m[\u001B[0m\u001B[0;36m0\u001B[0m\u001B[0;34m]\u001B[0m\u001B[0;34m\u001B[0m\u001B[0;34m\u001B[0m\u001B[0m\n\u001B[0m",
      "\u001B[0;31mTypeError\u001B[0m: 'int' object is not subscriptable"
     ]
    }
   ],
   "source": [
    "def return_tuple():\n",
    "    return(1,2)\n",
    "\n",
    "a, b = return_tuple()\n",
    "\n",
    "a[0]"
   ]
  },
  {
   "cell_type": "markdown",
   "metadata": {
    "id": "FGalvZ0g-6GI"
   },
   "source": [
    "**FileNotFoundError**"
   ]
  },
  {
   "cell_type": "code",
   "execution_count": null,
   "metadata": {
    "id": "5who65L8-8nH"
   },
   "outputs": [],
   "source": [
    "with open('customer.csv', mode='r') as csv_file:\n",
    "     csv_reader = csv.DictReader(csv_file)"
   ]
  },
  {
   "cell_type": "markdown",
   "metadata": {
    "id": "LTNTUsWV-9eb"
   },
   "source": [
    "**IndexError** - if index of a sequence is out of range."
   ]
  },
  {
   "cell_type": "code",
   "execution_count": null,
   "metadata": {
    "id": "L0fHrLxS_CTH"
   },
   "outputs": [],
   "source": [
    "dlist = [1,2,3]\n",
    "dlist[4]"
   ]
  },
  {
   "cell_type": "markdown",
   "metadata": {
    "id": "BoeRaC2t_Exg"
   },
   "source": [
    "**KeyError** - if a key is not found in a dictionary."
   ]
  },
  {
   "cell_type": "code",
   "execution_count": null,
   "metadata": {
    "id": "gQzciLxs_HdQ"
   },
   "outputs": [],
   "source": [
    "ddict = {'a': 1, 'b': 2}\n",
    "ddict['c']"
   ]
  },
  {
   "cell_type": "markdown",
   "metadata": {
    "id": "FXf9yzXt_MPM"
   },
   "source": [
    "**ValueError** - \tif a function gets argument of correct type but improper value."
   ]
  },
  {
   "cell_type": "code",
   "execution_count": null,
   "metadata": {
    "id": "AWc4gXGT_Olb"
   },
   "outputs": [],
   "source": [
    "import math\n",
    "math.sqrt(-1)"
   ]
  },
  {
   "cell_type": "markdown",
   "metadata": {
    "id": "sXj6Lxlw_RYo"
   },
   "source": [
    "**AttributeError** - if attribute assignment or reference fails."
   ]
  },
  {
   "cell_type": "code",
   "execution_count": null,
   "metadata": {
    "id": "vWNW1TDC_T6p"
   },
   "outputs": [],
   "source": [
    "i = 1\n",
    "i.append(2)"
   ]
  },
  {
   "cell_type": "markdown",
   "metadata": {
    "id": "NxUF8CZz_We-"
   },
   "source": [
    "**AssertionError** - if assert statement fails."
   ]
  },
  {
   "cell_type": "code",
   "execution_count": null,
   "metadata": {
    "id": "y3OhMP0d_ZOq"
   },
   "outputs": [],
   "source": [
    "assert 8 == 7, \"7 == 7\""
   ]
  },
  {
   "cell_type": "markdown",
   "metadata": {
    "id": "0LZBwOQ__cnI"
   },
   "source": [
    "**OverflowError**  -if result of an arithmetic operation is too large to be represented."
   ]
  },
  {
   "cell_type": "code",
   "execution_count": null,
   "metadata": {
    "id": "eXAvghuP_faI"
   },
   "outputs": [],
   "source": [
    "import math\n",
    "print(\"The exponential value is\")\n",
    "print(math.exp(1000))  # 2.7^100, result is double and it cannot print the result"
   ]
  },
  {
   "cell_type": "markdown",
   "metadata": {
    "id": "uU3YSSgC_mtq"
   },
   "source": [
    "## **A list of other common Python's built-in exceptions**\n",
    "\n",
    "\n",
    "| Exception | Cause of Error  |\n",
    "| --- | --- |\n",
    "| EOFError |\tif the input() functions hits end-of-file condition. |\n",
    "|FloatingPointError|\tif a floating point operation fails.|\n",
    "|GeneratorExit|\tRaise if a generator's close() method is called.|\n",
    "|ImportError|\tif the imported module is not found.|\n",
    "|KeyboardInterrupt|\tif the user hits interrupt key (Ctrl+c or delete).|\n",
    "|MemoryError|\tif an operation runs out of memory.|\n",
    "|NotImplementedError|\tby abstract methods.|\n",
    "|OSError|\tif system operation causes system related error.|\n",
    "|ReferenceError|\tif a weak reference proxy is used to access a garbage collected referent.|\n",
    "|RuntimeError|\tif an error does not fall under any other category.|\n",
    "|StopIteration|\tby next() function to indicate that there is no further item to be returned by iterator.|\n",
    "|IndentationError|\tif there is incorrect indentation.|\n",
    "|TabError|\tif indentation consists of inconsistent tabs and spaces.|\n",
    "|SystemError|\tif interpreter detects internal error.|\n",
    "|SystemExit|\tby sys.exit() function.|\n",
    "|UnboundLocalError|\tif a reference is made to a local variable in a function or method, but no value has been bound to that variable.|\n",
    "|UnicodeError|\tif a Unicode-related encoding or decoding error occurs.|\n",
    "|UnicodeEncodeError|\tif a Unicode-related error occurs during encoding.|\n",
    "|UnicodeDecodeError|\tif a Unicode-related error occurs during decoding.|\n",
    "|UnicodeTranslateError|\tif a Unicode-related error occurs during translating."
   ]
  },
  {
   "cell_type": "markdown",
   "metadata": {
    "id": "2fSKICE1_qMA"
   },
   "source": [
    "<p style=\"font-size:2.5em; font-weight:bold;\">Exception hierarchy</p>\n",
    "\n",
    "<img src=\"https://saskeli.github.io/data-analysis-with-python-summer-2019/_images/exception_hierarchy.svg\" style=\"width: 300px;\" />\n",
    "\n",
    "Source: [https://saskeli.github.io](https://saskeli.github.io/data-analysis-with-python-summer-2019/basics2.html#Exceptions)"
   ]
  },
  {
   "cell_type": "markdown",
   "metadata": {
    "id": "jVwy3LDK_txn"
   },
   "source": [
    "<p style=\"font-size:2.5em; font-weight:bold;\">A list of Python's Built-in Exceptions</p>\n",
    "\n",
    "<img src=\"https://miro.medium.com/v2/resize:fit:720/format:webp/1*Pp5jlYXgAQSW68rSwyIWAA.png\" style=\"width: 300px;\" />\n",
    "\n",
    "Source: [https://betterprogramming.pub](https://betterprogramming.pub/a-comprehensive-guide-to-handling-exceptions-in-python-7175f0ce81f7)"
   ]
  },
  {
   "cell_type": "markdown",
   "metadata": {
    "ExecuteTime": {
     "end_time": "2016-12-01T22:45:11.067640",
     "start_time": "2016-12-01T22:45:11.064638"
    },
    "id": "ad5mrrzK55Uj"
   },
   "source": [
    "## Standard Exceptions"
   ]
  },
  {
   "cell_type": "markdown",
   "metadata": {
    "ExecuteTime": {
     "end_time": "2016-12-02T00:29:44.659848",
     "start_time": "2016-12-02T00:29:44.655844"
    },
    "id": "_7l-bglr55Uj"
   },
   "source": [
    "Dodatkowe materiały\n",
    "\n",
    "Python 3 buildt-in exceptions: https://docs.python.org/3/library/exceptions.html#base-classes\n",
    "\n",
    "Python 3 exceptions graph: https://julien.danjou.info/media/images/blog/2016/python3-exceptions-graph.png"
   ]
  },
  {
   "cell_type": "markdown",
   "metadata": {
    "id": "kXP0KyVt55Uj"
   },
   "source": [
    "##  **Obsługa wyjątków / Handling Exceptions**\n",
    "1. Zgłoszenie wyjątku oznacza błąd programu i przerwanie normalnego działania programu.                               \n",
    "2. Wyjątki są generowane przez same moduły lub można wyjątki wygenerować samodzielnie korzystając z instrukcji **raise**.      \n",
    "3. Aby przechwycić wyjątek trzeba użyć instrukcji **try / except**\n",
    "    "
   ]
  },
  {
   "cell_type": "markdown",
   "metadata": {
    "id": "vwQWIDBFBc5H"
   },
   "source": [
    "## **Klauzula (clause) try/except**"
   ]
  },
  {
   "cell_type": "markdown",
   "metadata": {
    "ExecuteTime": {
     "end_time": "2016-12-02T00:31:16.847468",
     "start_time": "2016-12-02T00:31:16.838449"
    },
    "id": "WAyQtc9555Uj"
   },
   "source": [
    "``` python\n",
    "try:\n",
    "    doSomething()\n",
    "except SomeException:\n",
    "    print(\"Something went wrong\")\n",
    "```"
   ]
  },
  {
   "cell_type": "markdown",
   "metadata": {
    "id": "NKOinAGflHwT"
   },
   "source": [
    "Zauważ że przy wykryciu błędu Python przeskoczy do sekcji **except**, wykona zawarte\n",
    "w nim instrukcje a następnie będzie działać dalej, nie wracając już jednak\n",
    "do sekcji **try**. Zwróć uwagę, że wszystkie instrukcje z sekcji **try** znajdujące się po wykrytym\n",
    "błędzie zostaną pominięte\n"
   ]
  },
  {
   "cell_type": "markdown",
   "metadata": {
    "id": "pAFu96k6ltNk"
   },
   "source": [
    "Można używać konstrukcji **try - except** nie podając przy sekcji **except**\n",
    "rodzju błędu jaki może wystąpić, ale pamiętaj że wówczas kod będzie obsługiwał wszystkie rodzaje błędów. Nie jest to dobrą praktyką programistyczną, ponieważ **nie prowadzi** do identyfikacji problemu."
   ]
  },
  {
   "cell_type": "code",
   "execution_count": null,
   "metadata": {
    "ExecuteTime": {
     "end_time": "2016-12-01T22:44:20.876507",
     "start_time": "2016-12-01T22:44:19.096825"
    },
    "id": "7SX-Cx1v55Uk",
    "outputId": "5bae74ed-ebdf-4c5d-8b63-b0875ac29da1",
    "run_control": {
     "frozen": false,
     "read_only": false
    }
   },
   "outputs": [
    {
     "name": "stdout",
     "output_type": "stream",
     "text": [
      "Podaj liczbę: 10\n"
     ]
    }
   ],
   "source": [
    "while True:\n",
    "    try:\n",
    "        x = int(input(\"Podaj liczbę: \"))\n",
    "        break\n",
    "    except ValueError:\n",
    "        print(\"Błędny numer.  Spróbuj ponownie...\")"
   ]
  },
  {
   "cell_type": "markdown",
   "metadata": {
    "id": "EUhAbgGH55Uk"
   },
   "source": [
    "### **Nieprawidłowa obsługa błędów**"
   ]
  },
  {
   "cell_type": "markdown",
   "metadata": {
    "ExecuteTime": {
     "end_time": "2016-12-02T00:35:36.924574",
     "start_time": "2016-12-02T00:35:36.918570"
    },
    "id": "NTyzjRhT55Uk"
   },
   "source": [
    "**Nigdy nie pisz kodu w taki sposób: **  \n",
    "```python\n",
    "try:\n",
    "    doSomething()\n",
    "except:\n",
    "    print(\"Something went wrong\")\n",
    "```\n",
    "\n",
    "  \n",
    "**tak też jest błędnie**  \n",
    "```python\n",
    "except BaseException:\n",
    "```\n",
    "\n",
    "  \n",
    "**i tak też nie jest poprawnie**  \n",
    "```python\n",
    "except Exception:\n",
    "```"
   ]
  },
  {
   "cell_type": "markdown",
   "metadata": {
    "id": "NBidzX-bAfZS"
   },
   "source": [
    "## **Wbudowane komunikaty python / Built-in comments**\n",
    "Użyj: **e**"
   ]
  },
  {
   "cell_type": "code",
   "execution_count": null,
   "metadata": {
    "id": "OZfTqSOLA7bQ"
   },
   "outputs": [],
   "source": [
    "try:\n",
    "    x = int(input(\"Please enter a number: \"))\n",
    "    print(10/x)\n",
    "except ZeroDivisionError as e:\n",
    "    print(\"Exception:\", e)"
   ]
  },
  {
   "cell_type": "code",
   "execution_count": null,
   "metadata": {
    "id": "QgroDghXArGI"
   },
   "outputs": [],
   "source": [
    "try:\n",
    "    x = int(input(\"Please enter a number: \"))\n",
    "    print(10/x)\n",
    "except ValueError as e:\n",
    "    print(\"Exception:\", e)"
   ]
  },
  {
   "cell_type": "markdown",
   "metadata": {
    "ExecuteTime": {
     "end_time": "2016-12-02T01:22:01.996916",
     "start_time": "2016-12-02T01:22:01.993914"
    },
    "id": "pCFZq0xD55Ul"
   },
   "source": [
    "##  \"Łapanie i obsługa wielu wyjątków równocześnie\" / **Catching multiple exceptions**"
   ]
  },
  {
   "cell_type": "markdown",
   "metadata": {
    "id": "2gKgIjzxBByk"
   },
   "source": [
    "**Metoda 1**"
   ]
  },
  {
   "cell_type": "code",
   "execution_count": null,
   "metadata": {
    "id": "uW3Yoqw155Ul",
    "outputId": "c382c437-0c51-468a-ce9c-187d2055e2a9"
   },
   "outputs": [
    {
     "ename": "ZeroDivisionError",
     "evalue": "division by zero",
     "output_type": "error",
     "traceback": [
      "\u001B[1;31m---------------------------------------------------------------------------\u001B[0m",
      "\u001B[1;31mZeroDivisionError\u001B[0m                         Traceback (most recent call last)",
      "\u001B[1;32m<ipython-input-17-9e1622b385b6>\u001B[0m in \u001B[0;36m<module>\u001B[1;34m()\u001B[0m\n\u001B[1;32m----> 1\u001B[1;33m \u001B[1;36m1\u001B[0m\u001B[1;33m/\u001B[0m\u001B[1;36m0\u001B[0m\u001B[1;33m\u001B[0m\u001B[0m\n\u001B[0m",
      "\u001B[1;31mZeroDivisionError\u001B[0m: division by zero"
     ]
    }
   ],
   "source": [
    "try:\n",
    "    x = int(input(\"Please enter a number: \"))\n",
    "    print(10/x)\n",
    "except ZeroDivisionError as e:\n",
    "    print(\"ZeroDivisionError exception:\", e)\n",
    "except ValueError as e:\n",
    "    print(\"ValueError exception:\", e)\n",
    "except TypeError as e:\n",
    "    print(\"TypeError Exception:\", e)"
   ]
  },
  {
   "cell_type": "markdown",
   "metadata": {
    "id": "o8xaI3UZBFt3"
   },
   "source": [
    "**Metoda 2**"
   ]
  },
  {
   "cell_type": "code",
   "execution_count": 28,
   "metadata": {
    "colab": {
     "base_uri": "https://localhost:8080/"
    },
    "id": "n80NsyMiBJlQ",
    "outputId": "bca30b8d-1af3-47c4-da5d-05538b7073a8"
   },
   "outputs": [
    {
     "name": "stdout",
     "output_type": "stream",
     "text": [
      "Please enter a number: 0\n",
      "Exception: division by zero\n"
     ]
    }
   ],
   "source": [
    "try:\n",
    "    x = int(input(\"Please enter a number: \"))\n",
    "    print(10/x)\n",
    "except (ZeroDivisionError, ValueError, TypeError) as e:\n",
    "    print(\"Exception:\", e)"
   ]
  },
  {
   "cell_type": "markdown",
   "metadata": {
    "id": "dbpH7eT_BPUY"
   },
   "source": [
    "## **try/except/else clause**\n",
    "1. Aby przechwycić wyjątek trzeba użyć instrukcji try / except\n",
    "\n",
    "2. Po bloku except można również dodać blok **else**, który zostanie **wykonany jeżeli nie zgłoszony zostanie wyjątek**"
   ]
  },
  {
   "cell_type": "code",
   "execution_count": null,
   "metadata": {
    "id": "2QVPw1hLCEfC"
   },
   "outputs": [],
   "source": [
    "try:\n",
    "  file = 'file1.txt'\n",
    "  f = open(file, 'r')\n",
    "except IOError as e:\n",
    "    print('IOError exception: ', e)\n",
    "else:\n",
    "    print(file, 'has', len(f.readlines()), 'lines')\n",
    "    f.close()"
   ]
  },
  {
   "cell_type": "code",
   "execution_count": null,
   "metadata": {
    "id": "Gu7VxoRaCJJY"
   },
   "outputs": [],
   "source": [
    "file = 'file2.txt'\n",
    "f = open(file, 'w')\n",
    "f.write('information')\n",
    "f.close()\n",
    "\n",
    "try:\n",
    "  f = open('file2.txt', 'r')\n",
    "except IOError as e:\n",
    "    print('IOError exception: ', e)\n",
    "else:\n",
    "    print(file, 'has', len(f.readlines()), 'lines')\n",
    "    f.close()"
   ]
  },
  {
   "cell_type": "code",
   "execution_count": null,
   "metadata": {
    "id": "PMbnzvHpCLk_"
   },
   "outputs": [],
   "source": [
    "for denominator in [1,0,2]:\n",
    "    try:\n",
    "        r = 5/denominator\n",
    "    except ZeroDivisionError:\n",
    "        print('cannot divide by zero')\n",
    "    else:\n",
    "        print(\"Success! Result:\", r)"
   ]
  },
  {
   "cell_type": "markdown",
   "metadata": {
    "id": "hLad8Q9qCtKH"
   },
   "source": [
    "## **try/except/finally clause**  \n",
    "W sekcji finally umieszcza się instrukcje, które zostaną wykonane:\n",
    " *   niezależnie od tego czy w sekcji try zostanie wykryty błąd czy też nie,  *   niezależnie od tego czy wykonywanie kodu z bloku try zostanie przerwane przez break lub return.\n",
    "\n",
    "Komendę finally wykorzystuje się do porządkowania kodu."
   ]
  },
  {
   "cell_type": "code",
   "execution_count": null,
   "metadata": {
    "id": "EhW48rseDjiw"
   },
   "outputs": [],
   "source": [
    "for x in [1,0,2]:\n",
    "  try:\n",
    "    y = 5/x\n",
    "  except ZeroDivisionError as e:\n",
    "    print(\"ZeroDivisionError:\", e)\n",
    "  finally:\n",
    "    print(2)\n"
   ]
  },
  {
   "cell_type": "markdown",
   "metadata": {
    "id": "CMre6kwRDtWh"
   },
   "source": [
    "## **try/except/else/finally clause**"
   ]
  },
  {
   "cell_type": "code",
   "execution_count": 7,
   "metadata": {
    "colab": {
     "base_uri": "https://localhost:8080/"
    },
    "id": "SXTdB_vlDmVt",
    "outputId": "2aa7ec12-f40c-40ef-921a-4404839a04f5"
   },
   "outputs": [
    {
     "name": "stdout",
     "output_type": "stream",
     "text": [
      "5.0\n",
      "2\n",
      "ZeroDivisionError: division by zero\n",
      "2\n",
      "2.5\n",
      "2\n"
     ]
    }
   ],
   "source": [
    "for x in [1,0,2]:\n",
    "  try:\n",
    "    y = 5/x\n",
    "  except ZeroDivisionError as e:\n",
    "    print(\"ZeroDivisionError:\", e)\n",
    "  else:\n",
    "    print(y)\n",
    "  finally:\n",
    "    print(2)"
   ]
  },
  {
   "cell_type": "code",
   "execution_count": 8,
   "metadata": {
    "id": "pqoyKjChDyar"
   },
   "outputs": [],
   "source": [
    "def divide2(x, y):\n",
    "    try:\n",
    "        result = x / y\n",
    "    except ZeroDivisionError:\n",
    "        print(\"division by zero!\")\n",
    "    else:\n",
    "        print(\"result is\", result)\n",
    "    finally:\n",
    "        print(\"executing finally clause\")"
   ]
  },
  {
   "cell_type": "code",
   "execution_count": 9,
   "metadata": {
    "colab": {
     "base_uri": "https://localhost:8080/"
    },
    "id": "hfjvJvB5D01l",
    "outputId": "198b376f-00f6-4153-f0e3-182940e14f2d"
   },
   "outputs": [
    {
     "name": "stdout",
     "output_type": "stream",
     "text": [
      "result is 2.0\n",
      "executing finally clause\n"
     ]
    }
   ],
   "source": [
    "divide2(2, 1)"
   ]
  },
  {
   "cell_type": "code",
   "execution_count": 10,
   "metadata": {
    "colab": {
     "base_uri": "https://localhost:8080/"
    },
    "id": "gGAKy6czD1bu",
    "outputId": "0b0f9ef7-9765-4f8e-b973-33afe16fd328"
   },
   "outputs": [
    {
     "name": "stdout",
     "output_type": "stream",
     "text": [
      "division by zero!\n",
      "executing finally clause\n"
     ]
    }
   ],
   "source": [
    "divide2(2, 0)"
   ]
  },
  {
   "cell_type": "code",
   "execution_count": 11,
   "metadata": {
    "colab": {
     "base_uri": "https://localhost:8080/",
     "height": 280
    },
    "id": "0uAvHKboD3NW",
    "outputId": "45d10100-8e3a-4f6f-d79b-df9f85f8be7d"
   },
   "outputs": [
    {
     "name": "stdout",
     "output_type": "stream",
     "text": [
      "executing finally clause\n"
     ]
    },
    {
     "ename": "TypeError",
     "evalue": "unsupported operand type(s) for /: 'str' and 'str'",
     "output_type": "error",
     "traceback": [
      "\u001B[0;31m---------------------------------------------------------------------------\u001B[0m",
      "\u001B[0;31mTypeError\u001B[0m                                 Traceback (most recent call last)",
      "\u001B[0;32m<ipython-input-11-50ea7317f30f>\u001B[0m in \u001B[0;36m<cell line: 1>\u001B[0;34m()\u001B[0m\n\u001B[0;32m----> 1\u001B[0;31m \u001B[0mdivide2\u001B[0m\u001B[0;34m(\u001B[0m\u001B[0;34m\"2\"\u001B[0m\u001B[0;34m,\u001B[0m \u001B[0;34m\"1\"\u001B[0m\u001B[0;34m)\u001B[0m\u001B[0;34m\u001B[0m\u001B[0;34m\u001B[0m\u001B[0m\n\u001B[0m",
      "\u001B[0;32m<ipython-input-8-fe70c46ce279>\u001B[0m in \u001B[0;36mdivide2\u001B[0;34m(x, y)\u001B[0m\n\u001B[1;32m      1\u001B[0m \u001B[0;32mdef\u001B[0m \u001B[0mdivide2\u001B[0m\u001B[0;34m(\u001B[0m\u001B[0mx\u001B[0m\u001B[0;34m,\u001B[0m \u001B[0my\u001B[0m\u001B[0;34m)\u001B[0m\u001B[0;34m:\u001B[0m\u001B[0;34m\u001B[0m\u001B[0;34m\u001B[0m\u001B[0m\n\u001B[1;32m      2\u001B[0m     \u001B[0;32mtry\u001B[0m\u001B[0;34m:\u001B[0m\u001B[0;34m\u001B[0m\u001B[0;34m\u001B[0m\u001B[0m\n\u001B[0;32m----> 3\u001B[0;31m         \u001B[0mresult\u001B[0m \u001B[0;34m=\u001B[0m \u001B[0mx\u001B[0m \u001B[0;34m/\u001B[0m \u001B[0my\u001B[0m\u001B[0;34m\u001B[0m\u001B[0;34m\u001B[0m\u001B[0m\n\u001B[0m\u001B[1;32m      4\u001B[0m     \u001B[0;32mexcept\u001B[0m \u001B[0mZeroDivisionError\u001B[0m\u001B[0;34m:\u001B[0m\u001B[0;34m\u001B[0m\u001B[0;34m\u001B[0m\u001B[0m\n\u001B[1;32m      5\u001B[0m         \u001B[0mprint\u001B[0m\u001B[0;34m(\u001B[0m\u001B[0;34m\"division by zero!\"\u001B[0m\u001B[0;34m)\u001B[0m\u001B[0;34m\u001B[0m\u001B[0;34m\u001B[0m\u001B[0m\n",
      "\u001B[0;31mTypeError\u001B[0m: unsupported operand type(s) for /: 'str' and 'str'"
     ]
    }
   ],
   "source": [
    "divide2(\"2\", \"1\")"
   ]
  },
  {
   "cell_type": "markdown",
   "metadata": {
    "id": "RIfsOWzs55Um"
   },
   "source": [
    "### Instrukcja **raise** - wymuszanie pojawienia się podanego wyjątku\n",
    "Jeśli chcemy samodzielnie wygenerować własny wyjątek korzystamy z instrukcji raise. Raise służy do wymuszenia pojawienia się danego wyjątku. Posiada 2 argumenty:  pierwszy nazwa wyjątku, drugi (opcjonalnie) to argument wyjątku\n",
    "\n"
   ]
  },
  {
   "cell_type": "code",
   "execution_count": 12,
   "metadata": {
    "colab": {
     "base_uri": "https://localhost:8080/",
     "height": 176
    },
    "id": "IRIPnxBY55Un",
    "outputId": "e5bf7dc7-fdbf-404d-ae7d-d79ff8b414bf"
   },
   "outputs": [
    {
     "ename": "Exception",
     "evalue": "tu wpisz informację o błędzie",
     "output_type": "error",
     "traceback": [
      "\u001B[0;31m---------------------------------------------------------------------------\u001B[0m",
      "\u001B[0;31mException\u001B[0m                                 Traceback (most recent call last)",
      "\u001B[0;32m<ipython-input-12-2b51c142ed7a>\u001B[0m in \u001B[0;36m<cell line: 5>\u001B[0;34m()\u001B[0m\n\u001B[1;32m      3\u001B[0m \u001B[0;31m# Jeśli w bieżącym zasięgu nie był aktywny żaden wyjątek, generowany jest wyjątek sygnalizujący ten błąd.\u001B[0m\u001B[0;34m\u001B[0m\u001B[0;34m\u001B[0m\u001B[0m\n\u001B[1;32m      4\u001B[0m \u001B[0;34m\u001B[0m\u001B[0m\n\u001B[0;32m----> 5\u001B[0;31m \u001B[0;32mraise\u001B[0m \u001B[0mException\u001B[0m\u001B[0;34m(\u001B[0m\u001B[0;34m'tu wpisz informację o błędzie'\u001B[0m\u001B[0;34m)\u001B[0m\u001B[0;34m\u001B[0m\u001B[0;34m\u001B[0m\u001B[0m\n\u001B[0m",
      "\u001B[0;31mException\u001B[0m: tu wpisz informację o błędzie"
     ]
    }
   ],
   "source": [
    "# Jeśli po słowie kluczowym raise nie występuje żadne wyrażenie,\n",
    "# instrukcja powoduje ponowne wygenerowanie ostatniego wyjątku, który był aktywny w bieżącym zasięgu.\n",
    "# Jeśli w bieżącym zasięgu nie był aktywny żaden wyjątek, generowany jest wyjątek sygnalizujący ten błąd.\n",
    "\n",
    "raise Exception('tu wpisz informację o błędzie')"
   ]
  },
  {
   "cell_type": "code",
   "execution_count": 13,
   "metadata": {
    "colab": {
     "base_uri": "https://localhost:8080/",
     "height": 176
    },
    "id": "w7jnOGaTn4cP",
    "outputId": "96292c19-dbc8-4c0f-8fe4-396a778982f9"
   },
   "outputs": [
    {
     "ename": "TypeError",
     "evalue": "Only integers are allowed",
     "output_type": "error",
     "traceback": [
      "\u001B[0;31m---------------------------------------------------------------------------\u001B[0m",
      "\u001B[0;31mTypeError\u001B[0m                                 Traceback (most recent call last)",
      "\u001B[0;32m<ipython-input-13-ff51cc879cff>\u001B[0m in \u001B[0;36m<cell line: 3>\u001B[0;34m()\u001B[0m\n\u001B[1;32m      2\u001B[0m \u001B[0;34m\u001B[0m\u001B[0m\n\u001B[1;32m      3\u001B[0m \u001B[0;32mif\u001B[0m \u001B[0;32mnot\u001B[0m \u001B[0mtype\u001B[0m\u001B[0;34m(\u001B[0m\u001B[0mx\u001B[0m\u001B[0;34m)\u001B[0m \u001B[0;32mis\u001B[0m \u001B[0mstr\u001B[0m\u001B[0;34m:\u001B[0m\u001B[0;34m\u001B[0m\u001B[0;34m\u001B[0m\u001B[0m\n\u001B[0;32m----> 4\u001B[0;31m   \u001B[0;32mraise\u001B[0m \u001B[0mTypeError\u001B[0m\u001B[0;34m(\u001B[0m\u001B[0;34m\"Only integers are allowed\"\u001B[0m\u001B[0;34m)\u001B[0m  \u001B[0;31m# Raise a TypeError if x is not an string:\u001B[0m\u001B[0;34m\u001B[0m\u001B[0;34m\u001B[0m\u001B[0m\n\u001B[0m",
      "\u001B[0;31mTypeError\u001B[0m: Only integers are allowed"
     ]
    }
   ],
   "source": [
    "x = 1\n",
    "\n",
    "if not type(x) is str:\n",
    "  raise TypeError(\"Only integers are allowed\")  # Raise a TypeError if x is not an string:"
   ]
  },
  {
   "cell_type": "code",
   "execution_count": 14,
   "metadata": {
    "colab": {
     "base_uri": "https://localhost:8080/",
     "height": 176
    },
    "id": "574b8bavoDs-",
    "outputId": "d8859244-30e6-4f87-8fba-f898bbaf44b8"
   },
   "outputs": [
    {
     "ename": "Exception",
     "evalue": "Sorry, number is below 10",
     "output_type": "error",
     "traceback": [
      "\u001B[0;31m---------------------------------------------------------------------------\u001B[0m",
      "\u001B[0;31mException\u001B[0m                                 Traceback (most recent call last)",
      "\u001B[0;32m<ipython-input-14-760a29aed62b>\u001B[0m in \u001B[0;36m<cell line: 3>\u001B[0;34m()\u001B[0m\n\u001B[1;32m      2\u001B[0m \u001B[0;34m\u001B[0m\u001B[0m\n\u001B[1;32m      3\u001B[0m \u001B[0;32mif\u001B[0m \u001B[0mx\u001B[0m \u001B[0;34m<\u001B[0m \u001B[0;36m10\u001B[0m\u001B[0;34m:\u001B[0m\u001B[0;34m\u001B[0m\u001B[0;34m\u001B[0m\u001B[0m\n\u001B[0;32m----> 4\u001B[0;31m   \u001B[0;32mraise\u001B[0m \u001B[0mException\u001B[0m\u001B[0;34m(\u001B[0m\u001B[0;34m\"Sorry, number is below 10\"\u001B[0m\u001B[0;34m)\u001B[0m \u001B[0;31m# Raise an error and stop the program if x is lower than 10\u001B[0m\u001B[0;34m\u001B[0m\u001B[0;34m\u001B[0m\u001B[0m\n\u001B[0m",
      "\u001B[0;31mException\u001B[0m: Sorry, number is below 10"
     ]
    }
   ],
   "source": [
    "x = -10\n",
    "\n",
    "if x < 10:\n",
    "  raise Exception(\"Sorry, number is below 10\") # Raise an error and stop the program if x is lower than 10"
   ]
  },
  {
   "cell_type": "code",
   "execution_count": null,
   "metadata": {
    "ExecuteTime": {
     "end_time": "2016-12-02T01:41:07.507789",
     "start_time": "2016-12-02T01:41:07.498796"
    },
    "id": "GyaTXTae55Un",
    "outputId": "da8a2ff9-f729-4817-9ca0-66f5a38a6b03",
    "run_control": {
     "frozen": false,
     "read_only": false
    }
   },
   "outputs": [
    {
     "name": "stdout",
     "output_type": "stream",
     "text": [
      "Exception in function exceptions0: invalid literal for int() with base 10: 'one'\n",
      "Exception: invalid literal for int() with base 10: 'one'\n",
      "Move it\n"
     ]
    }
   ],
   "source": [
    "def sequence(seq1, seq2):\n",
    "  if not seq1 or not seq2:\n",
    "    raise ValueError(\"Sequence arguments must be non-empty\")\n",
    "  return [ (x1, x2) for x1 in seq1 for x2 in seq2 ]"
   ]
  },
  {
   "cell_type": "code",
   "execution_count": null,
   "metadata": {
    "id": "KQHkMjCxEb19"
   },
   "outputs": [],
   "source": [
    "sequence([1,2,3], [10,20,30])"
   ]
  },
  {
   "cell_type": "code",
   "execution_count": null,
   "metadata": {
    "id": "UuZkUtAlEd9M"
   },
   "outputs": [],
   "source": [
    "sequence([1,2,3], {10,20,30,40})"
   ]
  },
  {
   "cell_type": "code",
   "execution_count": null,
   "metadata": {
    "id": "mZ6i8vFOEfxO"
   },
   "outputs": [],
   "source": [
    "sequence([1,2,3], 'a')"
   ]
  },
  {
   "cell_type": "code",
   "execution_count": null,
   "metadata": {
    "id": "5n9pmiUbEhcc"
   },
   "outputs": [],
   "source": [
    "sequence([1,2,3], 10)"
   ]
  },
  {
   "cell_type": "code",
   "execution_count": null,
   "metadata": {
    "id": "c-4IdtfpEj1e"
   },
   "outputs": [],
   "source": [
    "def f():\n",
    "    try:\n",
    "        x = int(\"four\")\n",
    "    except ValueError as e:\n",
    "        print(\"Exception in function f:\", e)\n",
    "        raise\n",
    "\n",
    "try:\n",
    "    f()\n",
    "except ValueError as e:\n",
    "    print(\"Exception:\", e)\n",
    "\n",
    "print(\"Move it\")"
   ]
  },
  {
   "cell_type": "markdown",
   "metadata": {
    "id": "DR-UKXfrwSWy"
   },
   "source": [
    "### Hierarchia wyjątków\n",
    "\n",
    "Zwróc uwagę na kolejność"
   ]
  },
  {
   "cell_type": "code",
   "execution_count": 20,
   "metadata": {
    "id": "IBqc3DARwU6E"
   },
   "outputs": [],
   "source": [
    "def divide_by_zero(x):\n",
    "    return 1 / x  # will fail and raise a ZeroDivisionError\n"
   ]
  },
  {
   "cell_type": "code",
   "execution_count": 26,
   "metadata": {
    "colab": {
     "base_uri": "https://localhost:8080/"
    },
    "id": "v3ysD8KlxHiK",
    "outputId": "b13e99a4-435c-41ea-a745-745fc4686b2f"
   },
   "outputs": [
    {
     "name": "stdout",
     "output_type": "stream",
     "text": [
      "Exception('Mój własny wyjątek.')\n"
     ]
    }
   ],
   "source": [
    "x = 2\n",
    "try:\n",
    "    divide_by_zero(x)\n",
    "    raise Exception(\"Mój własny wyjątek.\")\n",
    "except Exception as e:\n",
    "    print(repr(e))\n"
   ]
  },
  {
   "cell_type": "code",
   "execution_count": 27,
   "metadata": {
    "colab": {
     "base_uri": "https://localhost:8080/"
    },
    "id": "BaD4NecExMK4",
    "outputId": "e123a533-fc39-4b1e-d433-3abb94c61f0c"
   },
   "outputs": [
    {
     "name": "stdout",
     "output_type": "stream",
     "text": [
      "ZeroDivisionError('division by zero')\n"
     ]
    }
   ],
   "source": [
    "x = 0\n",
    "try:\n",
    "    divide_by_zero(x)\n",
    "    raise Exception(\"Mój własny wyjątek.\")\n",
    "except Exception as e:\n",
    "    print(repr(e))\n"
   ]
  },
  {
   "cell_type": "markdown",
   "metadata": {
    "id": "wgrhAm3vAE-I"
   },
   "source": [
    "**ZAPAMIETAJ:**\n",
    "1. Zgłoszenie wyjątku oznacza błąd programu i przerwanie normalnego działania programu.                               \n",
    "2. Wyjątki sa generowane przez same moduły lub można wygenerować samodzielnie korzystając z instrukcji raise.      \n",
    "3. Aby przechwycić wyjątek trzeba użyć instrukcji try / except                                                               \n",
    "4. Po bloku except można również dodać blok else, który wykonany zostanie jeżeli nie zgłoszony zostanie wyjątek             \n",
    "5. Można też stosować blok finally - kod z tego bloku zostanie wykonany zawsze niezależnie od wychwyconego wyjątku\n",
    "6. Bloki finally i except nie mogą być stosowane razem ponieważ finally zawiera kod, który niezależnie od wyjątków zostanie wykonany"
   ]
  },
  {
   "cell_type": "markdown",
   "metadata": {
    "id": "EHvDQ5xyFj_Z"
   },
   "source": [
    "# **Assert**\n",
    "```assert Expression[, Arguments]```\n",
    "jeśli wyrażenie (Expression) jest fałszywe to wówczas Python zgłasza wyjątek AssertionError.\n",
    "\n",
    "Asercji używa się podczas debugownia kodu np. kontrolowanie czy wartość zmiennej\n",
    "ma odpowiedni typ lub mieści się w pożądanym zakresie."
   ]
  },
  {
   "cell_type": "code",
   "execution_count": null,
   "metadata": {
    "colab": {
     "base_uri": "https://localhost:8080/",
     "height": 183
    },
    "id": "HDNUfY1BGZ1A",
    "outputId": "c6d104ec-fe0d-4628-a166-74b4f3d39443"
   },
   "outputs": [
    {
     "ename": "AssertionError",
     "evalue": "ignored",
     "output_type": "error",
     "traceback": [
      "\u001B[0;31m---------------------------------------------------------------------------\u001B[0m",
      "\u001B[0;31mAssertionError\u001B[0m                            Traceback (most recent call last)",
      "\u001B[0;32m<ipython-input-1-f7d5e75afdc5>\u001B[0m in \u001B[0;36m<cell line: 2>\u001B[0;34m()\u001B[0m\n\u001B[1;32m      1\u001B[0m \u001B[0;31m# #if condition returns True, then nothing happens:\u001B[0m\u001B[0;34m\u001B[0m\u001B[0;34m\u001B[0m\u001B[0m\n\u001B[0;32m----> 2\u001B[0;31m \u001B[0;32massert\u001B[0m \u001B[0;36m1\u001B[0m\u001B[0;34m==\u001B[0m\u001B[0;36m0\u001B[0m\u001B[0;34m,\u001B[0m \u001B[0;34m\"Not equal\"\u001B[0m\u001B[0;34m\u001B[0m\u001B[0;34m\u001B[0m\u001B[0m\n\u001B[0m",
      "\u001B[0;31mAssertionError\u001B[0m: Not equal"
     ]
    }
   ],
   "source": [
    "# #if condition returns True, then nothing happens:\n",
    "assert 1==0, \"Not equal\""
   ]
  },
  {
   "cell_type": "code",
   "execution_count": null,
   "metadata": {
    "id": "j-nXOhJAH0o4"
   },
   "outputs": [],
   "source": [
    "## poprawny kod\n",
    "def CelToFahrenheit1(Temperature):\n",
    "   return (Temperature+273.15)"
   ]
  },
  {
   "cell_type": "code",
   "execution_count": null,
   "metadata": {
    "id": "MPmZYz1hH018"
   },
   "outputs": [],
   "source": [
    "assert CelToFahrenheit1(100) == 373.15, ' Code not correct !'"
   ]
  },
  {
   "cell_type": "code",
   "execution_count": null,
   "metadata": {
    "id": "Ois7PiSHH5_u"
   },
   "outputs": [],
   "source": [
    "## niepoprawny kod\n",
    "def CelToFahrenheit2(Temperature):\n",
    "   return (Temperature+273)"
   ]
  },
  {
   "cell_type": "code",
   "execution_count": null,
   "metadata": {
    "id": "SEaS7D5EH6GC"
   },
   "outputs": [],
   "source": [
    "assert CelToFahrenheit2(100) == 373.15, ' Code not correct !'"
   ]
  },
  {
   "cell_type": "markdown",
   "metadata": {
    "id": "KyOa-WnwyAil"
   },
   "source": [
    "**Zadanie 1** Utwórz program kalkulator (dzielenie, pierwiastkowanie), wykonaj\n",
    "\n",
    "obsługę wyjatków. Korzystając z **assert** sprawdź poprawność działania twojego kodu."
   ]
  },
  {
   "cell_type": "code",
   "execution_count": 1,
   "metadata": {},
   "outputs": [],
   "source": [
    "import math\n",
    "def calc(x, y, operation):\n",
    "  if operation == '/':\n",
    "    try:\n",
    "      x/y\n",
    "    except (ZeroDivisionError, TypeError) as e:\n",
    "      print(f\"Error {e}\")\n",
    "      return 0\n",
    "    else:\n",
    "      return x / y\n",
    "  try:\n",
    "    x ** 1/y\n",
    "  except TypeError as e:\n",
    "    print(f\"Error {e}\")\n",
    "    return 0\n",
    "  else:\n",
    "    return x ** 1/y\n",
    "\n",
    "    "
   ]
  },
  {
   "cell_type": "code",
   "execution_count": 2,
   "metadata": {},
   "outputs": [
    {
     "name": "stdout",
     "output_type": "stream",
     "text": [
      "Error unsupported operand type(s) for /: 'str' and 'int'\n",
      "Error unsupported operand type(s) for ** or pow(): 'str' and 'int'\n"
     ]
    }
   ],
   "source": [
    "assert calc(\"3\", 2, '/') == 0 , \"Blad powinien byc\"\n",
    "assert calc(3, 2, \"pierw\") == 3 ** 1/2, \"ups\"\n",
    "assert calc(\"3\", \"2\", \"pew\") == 0, \"fds\""
   ]
  },
  {
   "cell_type": "markdown",
   "metadata": {
    "id": "rPBanjsXIqrk"
   },
   "source": [
    "**Zadanie 2** Utwórz program który na podstawie danych z pliku movies.csv, określi tytuł filmu czarno-białego z najwyższym budżetem, jego tytuł zapisze do pliku picle, wykonaj obsługę wyjatków (w tym FileNotFoundError)."
   ]
  },
  {
   "cell_type": "code",
   "execution_count": 9,
   "metadata": {
    "colab": {
     "base_uri": "https://localhost:8080/"
    },
    "id": "mm6O3vzmiflo",
    "outputId": "af3cb75a-304c-4310-b5d2-40cd6f425bed"
   },
   "outputs": [
    {
     "name": "stdout",
     "output_type": "stream",
     "text": [
      "Collecting google-colab\n",
      "  Using cached google-colab-1.0.0.tar.gz (72 kB)\n",
      "  Preparing metadata (setup.py): started\n",
      "  Preparing metadata (setup.py): finished with status 'done'\n",
      "Collecting google-auth~=1.4.0 (from google-colab)\n",
      "  Using cached google_auth-1.4.2-py2.py3-none-any.whl.metadata (3.0 kB)\n",
      "Collecting ipykernel~=4.6.0 (from google-colab)\n",
      "  Using cached ipykernel-4.6.1-py3-none-any.whl.metadata (981 bytes)\n",
      "Collecting ipython~=5.5.0 (from google-colab)\n",
      "  Using cached ipython-5.5.0-py3-none-any.whl.metadata (4.3 kB)\n",
      "Collecting notebook~=5.2.0 (from google-colab)\n",
      "  Using cached notebook-5.2.2-py2.py3-none-any.whl.metadata (1.8 kB)\n",
      "Collecting six~=1.12.0 (from google-colab)\n",
      "  Using cached six-1.12.0-py2.py3-none-any.whl.metadata (1.9 kB)\n",
      "Collecting pandas~=0.24.0 (from google-colab)\n",
      "  Using cached pandas-0.24.2.tar.gz (11.8 MB)\n",
      "  Preparing metadata (setup.py): started\n",
      "  Preparing metadata (setup.py): finished with status 'error'\n"
     ]
    },
    {
     "name": "stderr",
     "output_type": "stream",
     "text": [
      "  error: subprocess-exited-with-error\n",
      "  \n",
      "  python setup.py egg_info did not run successfully.\n",
      "  exit code: 1\n",
      "  \n",
      "  [15 lines of output]\n",
      "  C:\\Users\\Dawid\\AppData\\Local\\Temp\\pip-install-qoc2v85r\\pandas_2d992f762a1d45d9b603840716a362bb\\setup.py:12: DeprecationWarning: pkg_resources is deprecated as an API. See https://setuptools.pypa.io/en/latest/pkg_resources.html\n",
      "    import pkg_resources\n",
      "  D:\\anaconda\\Lib\\site-packages\\setuptools\\__init__.py:80: _DeprecatedInstaller: setuptools.installer and fetch_build_eggs are deprecated.\n",
      "  !!\n",
      "  \n",
      "          ********************************************************************************\n",
      "          Requirements should be satisfied by a PEP 517 installer.\n",
      "          If you are using pip, you can try `pip install --use-pep517`.\n",
      "          ********************************************************************************\n",
      "  \n",
      "  !!\n",
      "    dist.fetch_build_eggs(dist.setup_requires)\n",
      "  error in pandas setup command: 'install_requires' must be a string or list of strings containing valid project/version requirement specifiers; Expected end or semicolon (after version specifier)\n",
      "      pytz >= 2011k\n",
      "           ~~~~~~~^\n",
      "  [end of output]\n",
      "  \n",
      "  note: This error originates from a subprocess, and is likely not a problem with pip.\n",
      "error: metadata-generation-failed\n",
      "\n",
      "Encountered error while generating package metadata.\n",
      "\n",
      "See above for output.\n",
      "\n",
      "note: This is an issue with the package mentioned above, not pip.\n",
      "hint: See above for details.\n"
     ]
    },
    {
     "ename": "ModuleNotFoundError",
     "evalue": "No module named 'google.colab'",
     "output_type": "error",
     "traceback": [
      "\u001B[1;31m---------------------------------------------------------------------------\u001B[0m",
      "\u001B[1;31mModuleNotFoundError\u001B[0m                       Traceback (most recent call last)",
      "Cell \u001B[1;32mIn[9], line 3\u001B[0m\n\u001B[0;32m      1\u001B[0m get_ipython()\u001B[38;5;241m.\u001B[39msystem(\u001B[38;5;124m'\u001B[39m\u001B[38;5;124mpip install google-colab\u001B[39m\u001B[38;5;124m'\u001B[39m)\n\u001B[0;32m      2\u001B[0m \u001B[38;5;66;03m# Jeśli chcesz wykorzystać zasoby które masz na dysku google wykorzystaj kod\u001B[39;00m\n\u001B[1;32m----> 3\u001B[0m \u001B[38;5;28;01mfrom\u001B[39;00m \u001B[38;5;21;01mgoogle\u001B[39;00m\u001B[38;5;21;01m.\u001B[39;00m\u001B[38;5;21;01mcolab\u001B[39;00m \u001B[38;5;28;01mimport\u001B[39;00m drive\n\u001B[0;32m      4\u001B[0m drive\u001B[38;5;241m.\u001B[39mmount(\u001B[38;5;124m'\u001B[39m\u001B[38;5;124m/content/drive\u001B[39m\u001B[38;5;124m'\u001B[39m)\n",
      "\u001B[1;31mModuleNotFoundError\u001B[0m: No module named 'google.colab'"
     ]
    }
   ],
   "source": [
    "# Jeśli chcesz wykorzystać zasoby które masz na dysku google wykorzystaj kod\n",
    "from google.colab import drive\n",
    "drive.mount('/content/drive')    # podłączenie zasobów z dysku Google"
   ]
  },
  {
   "cell_type": "code",
   "execution_count": null,
   "metadata": {
    "colab": {
     "base_uri": "https://localhost:8080/",
     "height": 455
    },
    "id": "TG55R5UbkvAx",
    "outputId": "0a4ddc38-fb4d-4832-f11e-069609197f04"
   },
   "outputs": [
    {
     "data": {
      "text/html": [
       "\n",
       "  <div id=\"df-2bfd32e3-ee41-4945-8c82-db41f985aae1\">\n",
       "    <div class=\"colab-df-container\">\n",
       "      <div>\n",
       "<style scoped>\n",
       "    .dataframe tbody tr th:only-of-type {\n",
       "        vertical-align: middle;\n",
       "    }\n",
       "\n",
       "    .dataframe tbody tr th {\n",
       "        vertical-align: top;\n",
       "    }\n",
       "\n",
       "    .dataframe thead th {\n",
       "        text-align: right;\n",
       "    }\n",
       "</style>\n",
       "<table border=\"1\" class=\"dataframe\">\n",
       "  <thead>\n",
       "    <tr style=\"text-align: right;\">\n",
       "      <th></th>\n",
       "      <th>movie_title</th>\n",
       "      <th>title_year</th>\n",
       "      <th>budget</th>\n",
       "      <th>gross</th>\n",
       "      <th>genres</th>\n",
       "      <th>language</th>\n",
       "      <th>country</th>\n",
       "      <th>movie_facebook_likes</th>\n",
       "      <th>imdb_score</th>\n",
       "      <th>num_voted_users</th>\n",
       "      <th>...</th>\n",
       "      <th>actor_3_name</th>\n",
       "      <th>actor_3_facebook_likes</th>\n",
       "      <th>cast_total_facebook_likes</th>\n",
       "      <th>color</th>\n",
       "      <th>duration</th>\n",
       "      <th>plot_keywords</th>\n",
       "      <th>content_rating</th>\n",
       "      <th>aspect_ratio</th>\n",
       "      <th>facenumber_in_poster</th>\n",
       "      <th>movie_imdb_link</th>\n",
       "    </tr>\n",
       "  </thead>\n",
       "  <tbody>\n",
       "    <tr>\n",
       "      <th>0</th>\n",
       "      <td>Avatar</td>\n",
       "      <td>2009.0</td>\n",
       "      <td>237000000.0</td>\n",
       "      <td>760505847.0</td>\n",
       "      <td>Action|Adventure|Fantasy|Sci-Fi</td>\n",
       "      <td>English</td>\n",
       "      <td>USA</td>\n",
       "      <td>33000</td>\n",
       "      <td>7.9</td>\n",
       "      <td>886204</td>\n",
       "      <td>...</td>\n",
       "      <td>Wes Studi</td>\n",
       "      <td>855.0</td>\n",
       "      <td>4834</td>\n",
       "      <td>Color</td>\n",
       "      <td>178.0</td>\n",
       "      <td>avatar|future|marine|native|paraplegic</td>\n",
       "      <td>PG-13</td>\n",
       "      <td>1.78</td>\n",
       "      <td>0.0</td>\n",
       "      <td>http://www.imdb.com/title/tt0499549/?ref_=fn_t...</td>\n",
       "    </tr>\n",
       "    <tr>\n",
       "      <th>1</th>\n",
       "      <td>Pirates of the Caribbean: At World's End</td>\n",
       "      <td>2007.0</td>\n",
       "      <td>300000000.0</td>\n",
       "      <td>309404152.0</td>\n",
       "      <td>Action|Adventure|Fantasy</td>\n",
       "      <td>English</td>\n",
       "      <td>USA</td>\n",
       "      <td>0</td>\n",
       "      <td>7.1</td>\n",
       "      <td>471220</td>\n",
       "      <td>...</td>\n",
       "      <td>Jack Davenport</td>\n",
       "      <td>1000.0</td>\n",
       "      <td>48350</td>\n",
       "      <td>Color</td>\n",
       "      <td>169.0</td>\n",
       "      <td>goddess|marriage ceremony|marriage proposal|pi...</td>\n",
       "      <td>PG-13</td>\n",
       "      <td>2.35</td>\n",
       "      <td>0.0</td>\n",
       "      <td>http://www.imdb.com/title/tt0449088/?ref_=fn_t...</td>\n",
       "    </tr>\n",
       "    <tr>\n",
       "      <th>2</th>\n",
       "      <td>Spectre</td>\n",
       "      <td>2015.0</td>\n",
       "      <td>245000000.0</td>\n",
       "      <td>200074175.0</td>\n",
       "      <td>Action|Adventure|Thriller</td>\n",
       "      <td>English</td>\n",
       "      <td>UK</td>\n",
       "      <td>85000</td>\n",
       "      <td>6.8</td>\n",
       "      <td>275868</td>\n",
       "      <td>...</td>\n",
       "      <td>Stephanie Sigman</td>\n",
       "      <td>161.0</td>\n",
       "      <td>11700</td>\n",
       "      <td>Color</td>\n",
       "      <td>148.0</td>\n",
       "      <td>bomb|espionage|sequel|spy|terrorist</td>\n",
       "      <td>PG-13</td>\n",
       "      <td>2.35</td>\n",
       "      <td>1.0</td>\n",
       "      <td>http://www.imdb.com/title/tt2379713/?ref_=fn_t...</td>\n",
       "    </tr>\n",
       "    <tr>\n",
       "      <th>3</th>\n",
       "      <td>The Dark Knight Rises</td>\n",
       "      <td>2012.0</td>\n",
       "      <td>250000000.0</td>\n",
       "      <td>448130642.0</td>\n",
       "      <td>Action|Thriller</td>\n",
       "      <td>English</td>\n",
       "      <td>USA</td>\n",
       "      <td>164000</td>\n",
       "      <td>8.5</td>\n",
       "      <td>1144337</td>\n",
       "      <td>...</td>\n",
       "      <td>Joseph Gordon-Levitt</td>\n",
       "      <td>23000.0</td>\n",
       "      <td>106759</td>\n",
       "      <td>Color</td>\n",
       "      <td>164.0</td>\n",
       "      <td>deception|imprisonment|lawlessness|police offi...</td>\n",
       "      <td>PG-13</td>\n",
       "      <td>2.35</td>\n",
       "      <td>0.0</td>\n",
       "      <td>http://www.imdb.com/title/tt1345836/?ref_=fn_t...</td>\n",
       "    </tr>\n",
       "    <tr>\n",
       "      <th>4</th>\n",
       "      <td>Star Wars: Episode VII - The Force Awakens</td>\n",
       "      <td>NaN</td>\n",
       "      <td>NaN</td>\n",
       "      <td>NaN</td>\n",
       "      <td>Documentary</td>\n",
       "      <td>NaN</td>\n",
       "      <td>NaN</td>\n",
       "      <td>0</td>\n",
       "      <td>7.1</td>\n",
       "      <td>8</td>\n",
       "      <td>...</td>\n",
       "      <td>NaN</td>\n",
       "      <td>NaN</td>\n",
       "      <td>143</td>\n",
       "      <td>NaN</td>\n",
       "      <td>NaN</td>\n",
       "      <td>NaN</td>\n",
       "      <td>NaN</td>\n",
       "      <td>NaN</td>\n",
       "      <td>0.0</td>\n",
       "      <td>http://www.imdb.com/title/tt5289954/?ref_=fn_t...</td>\n",
       "    </tr>\n",
       "  </tbody>\n",
       "</table>\n",
       "<p>5 rows × 28 columns</p>\n",
       "</div>\n",
       "      <button class=\"colab-df-convert\" onclick=\"convertToInteractive('df-2bfd32e3-ee41-4945-8c82-db41f985aae1')\"\n",
       "              title=\"Convert this dataframe to an interactive table.\"\n",
       "              style=\"display:none;\">\n",
       "        \n",
       "  <svg xmlns=\"http://www.w3.org/2000/svg\" height=\"24px\"viewBox=\"0 0 24 24\"\n",
       "       width=\"24px\">\n",
       "    <path d=\"M0 0h24v24H0V0z\" fill=\"none\"/>\n",
       "    <path d=\"M18.56 5.44l.94 2.06.94-2.06 2.06-.94-2.06-.94-.94-2.06-.94 2.06-2.06.94zm-11 1L8.5 8.5l.94-2.06 2.06-.94-2.06-.94L8.5 2.5l-.94 2.06-2.06.94zm10 10l.94 2.06.94-2.06 2.06-.94-2.06-.94-.94-2.06-.94 2.06-2.06.94z\"/><path d=\"M17.41 7.96l-1.37-1.37c-.4-.4-.92-.59-1.43-.59-.52 0-1.04.2-1.43.59L10.3 9.45l-7.72 7.72c-.78.78-.78 2.05 0 2.83L4 21.41c.39.39.9.59 1.41.59.51 0 1.02-.2 1.41-.59l7.78-7.78 2.81-2.81c.8-.78.8-2.07 0-2.86zM5.41 20L4 18.59l7.72-7.72 1.47 1.35L5.41 20z\"/>\n",
       "  </svg>\n",
       "      </button>\n",
       "      \n",
       "  <style>\n",
       "    .colab-df-container {\n",
       "      display:flex;\n",
       "      flex-wrap:wrap;\n",
       "      gap: 12px;\n",
       "    }\n",
       "\n",
       "    .colab-df-convert {\n",
       "      background-color: #E8F0FE;\n",
       "      border: none;\n",
       "      border-radius: 50%;\n",
       "      cursor: pointer;\n",
       "      display: none;\n",
       "      fill: #1967D2;\n",
       "      height: 32px;\n",
       "      padding: 0 0 0 0;\n",
       "      width: 32px;\n",
       "    }\n",
       "\n",
       "    .colab-df-convert:hover {\n",
       "      background-color: #E2EBFA;\n",
       "      box-shadow: 0px 1px 2px rgba(60, 64, 67, 0.3), 0px 1px 3px 1px rgba(60, 64, 67, 0.15);\n",
       "      fill: #174EA6;\n",
       "    }\n",
       "\n",
       "    [theme=dark] .colab-df-convert {\n",
       "      background-color: #3B4455;\n",
       "      fill: #D2E3FC;\n",
       "    }\n",
       "\n",
       "    [theme=dark] .colab-df-convert:hover {\n",
       "      background-color: #434B5C;\n",
       "      box-shadow: 0px 1px 3px 1px rgba(0, 0, 0, 0.15);\n",
       "      filter: drop-shadow(0px 1px 2px rgba(0, 0, 0, 0.3));\n",
       "      fill: #FFFFFF;\n",
       "    }\n",
       "  </style>\n",
       "\n",
       "      <script>\n",
       "        const buttonEl =\n",
       "          document.querySelector('#df-2bfd32e3-ee41-4945-8c82-db41f985aae1 button.colab-df-convert');\n",
       "        buttonEl.style.display =\n",
       "          google.colab.kernel.accessAllowed ? 'block' : 'none';\n",
       "\n",
       "        async function convertToInteractive(key) {\n",
       "          const element = document.querySelector('#df-2bfd32e3-ee41-4945-8c82-db41f985aae1');\n",
       "          const dataTable =\n",
       "            await google.colab.kernel.invokeFunction('convertToInteractive',\n",
       "                                                     [key], {});\n",
       "          if (!dataTable) return;\n",
       "\n",
       "          const docLinkHtml = 'Like what you see? Visit the ' +\n",
       "            '<a target=\"_blank\" href=https://colab.research.google.com/notebooks/data_table.ipynb>data table notebook</a>'\n",
       "            + ' to learn more about interactive tables.';\n",
       "          element.innerHTML = '';\n",
       "          dataTable['output_type'] = 'display_data';\n",
       "          await google.colab.output.renderOutput(dataTable, element);\n",
       "          const docLink = document.createElement('div');\n",
       "          docLink.innerHTML = docLinkHtml;\n",
       "          element.appendChild(docLink);\n",
       "        }\n",
       "      </script>\n",
       "    </div>\n",
       "  </div>\n",
       "  "
      ],
      "text/plain": [
       "                                  movie_title  title_year       budget  \\\n",
       "0                                      Avatar      2009.0  237000000.0   \n",
       "1    Pirates of the Caribbean: At World's End      2007.0  300000000.0   \n",
       "2                                     Spectre      2015.0  245000000.0   \n",
       "3                       The Dark Knight Rises      2012.0  250000000.0   \n",
       "4  Star Wars: Episode VII - The Force Awakens         NaN          NaN   \n",
       "\n",
       "         gross                           genres language country  \\\n",
       "0  760505847.0  Action|Adventure|Fantasy|Sci-Fi  English     USA   \n",
       "1  309404152.0         Action|Adventure|Fantasy  English     USA   \n",
       "2  200074175.0        Action|Adventure|Thriller  English      UK   \n",
       "3  448130642.0                  Action|Thriller  English     USA   \n",
       "4          NaN                      Documentary      NaN     NaN   \n",
       "\n",
       "   movie_facebook_likes  imdb_score  num_voted_users  ...  \\\n",
       "0                 33000         7.9           886204  ...   \n",
       "1                     0         7.1           471220  ...   \n",
       "2                 85000         6.8           275868  ...   \n",
       "3                164000         8.5          1144337  ...   \n",
       "4                     0         7.1                8  ...   \n",
       "\n",
       "           actor_3_name  actor_3_facebook_likes cast_total_facebook_likes  \\\n",
       "0             Wes Studi                   855.0                      4834   \n",
       "1        Jack Davenport                  1000.0                     48350   \n",
       "2      Stephanie Sigman                   161.0                     11700   \n",
       "3  Joseph Gordon-Levitt                 23000.0                    106759   \n",
       "4                   NaN                     NaN                       143   \n",
       "\n",
       "   color duration                                      plot_keywords  \\\n",
       "0  Color    178.0             avatar|future|marine|native|paraplegic   \n",
       "1  Color    169.0  goddess|marriage ceremony|marriage proposal|pi...   \n",
       "2  Color    148.0                bomb|espionage|sequel|spy|terrorist   \n",
       "3  Color    164.0  deception|imprisonment|lawlessness|police offi...   \n",
       "4    NaN      NaN                                                NaN   \n",
       "\n",
       "  content_rating  aspect_ratio facenumber_in_poster  \\\n",
       "0          PG-13          1.78                  0.0   \n",
       "1          PG-13          2.35                  0.0   \n",
       "2          PG-13          2.35                  1.0   \n",
       "3          PG-13          2.35                  0.0   \n",
       "4            NaN           NaN                  0.0   \n",
       "\n",
       "                                     movie_imdb_link  \n",
       "0  http://www.imdb.com/title/tt0499549/?ref_=fn_t...  \n",
       "1  http://www.imdb.com/title/tt0449088/?ref_=fn_t...  \n",
       "2  http://www.imdb.com/title/tt2379713/?ref_=fn_t...  \n",
       "3  http://www.imdb.com/title/tt1345836/?ref_=fn_t...  \n",
       "4  http://www.imdb.com/title/tt5289954/?ref_=fn_t...  \n",
       "\n",
       "[5 rows x 28 columns]"
      ]
     },
     "execution_count": 12,
     "metadata": {},
     "output_type": "execute_result"
    }
   ],
   "source": [
    "import os\n",
    "import numpy as np\n",
    "import pandas as pd\n",
    "folder_path = '/content/drive/MyDrive/Colab Notebooks/dataset/'\n",
    "try:\n",
    "  df = pd.read_csv(os.path.join(folder_path, 'movies.csv'))\n",
    "except FileNotFoundError as e:\n",
    "  print(f\"FileNotFountError {e}\")\n",
    "  df = []\n",
    "\n",
    "\n",
    "df.head()"
   ]
  },
  {
   "cell_type": "code",
   "execution_count": null,
   "metadata": {},
   "outputs": [],
   "source": [
    "import pickle\n",
    "df_black_withe = df[df['color'] != 'Color']\n",
    "df_black_withe['budget'].idxmax()\n",
    "title = df_black_withe.loc[df_black_withe['budget'].idxmax()]['movie_title']\n",
    "with open('picle.pickle', 'wb') as f:\n",
    "  pickle.dump(title, f)"
   ]
  },
  {
   "cell_type": "markdown",
   "metadata": {
    "id": "X-cnl1H2JQTY"
   },
   "source": [
    "**Zadanie 3** Utwórz funkcję licz(fun) która obliczy pierwiastki równania kwadratowego ax^2+bx+c = 0 dla dowolnych a,b,c\n",
    "\n",
    "Wymagania:\n",
    "\n",
    "*   wykonaj obsługę wyjatków\n",
    "*   argument wejściowy funkcji (fun) jest typu string np. '2x^2+3'\n",
    "*   korzystając z assert sprawdź poprawność działania funkcji\n",
    "Dane wejsciowe: x^2+4x-21\n",
    "Wynik: 3 lub -7"
   ]
  },
  {
   "cell_type": "code",
   "execution_count": 1,
   "metadata": {
    "ExecuteTime": {
     "end_time": "2024-05-18T11:08:39.931887800Z",
     "start_time": "2024-05-18T11:08:39.920917600Z"
    }
   },
   "outputs": [],
   "source": [
    "import math\n",
    "def licz(fun):\n",
    "  list_var = fun.split('x')\n",
    "  a, b, c = list_var[0], list_var[1].split('^2')[1], list_var[2]\n",
    "  if a == '-':\n",
    "    a = -1\n",
    "  elif a == '':\n",
    "    a = 1\n",
    "  else:\n",
    "    try:\n",
    "      a = int(a)\n",
    "    except TypeError as e:\n",
    "      print(e)\n",
    "      return 0\n",
    "  if len(list_var) > 3:\n",
    "    return \"Za duzo parametrow\"\n",
    "  if b == '+':\n",
    "    b = 1\n",
    "  elif b == '-':\n",
    "    b = -1\n",
    "  else:\n",
    "    try:\n",
    "      b = int(b)\n",
    "    except ValueError as e:\n",
    "      print(e)\n",
    "      return 0\n",
    "  if c == '':\n",
    "    c = 0\n",
    "  else:\n",
    "    try:\n",
    "      c = int(c)\n",
    "    except ValueError as e:\n",
    "      print(e)\n",
    "      return 0\n",
    "  delta = b**2 - 4*a*c\n",
    "  if delta > 0:\n",
    "\n",
    "    x1 = (-b + math.sqrt(delta)) / (2*a)\n",
    "    x2 = (-b - math.sqrt(delta)) / (2*a)\n",
    "    return x1, x2\n",
    "  elif delta == 0:\n",
    "    x = -b / (2*a)\n",
    "    return x, x\n",
    "  else:\n",
    "    return None \n"
   ]
  },
  {
   "cell_type": "code",
   "execution_count": 2,
   "metadata": {
    "ExecuteTime": {
     "end_time": "2024-05-18T11:08:45.677149700Z",
     "start_time": "2024-05-18T11:08:45.635262Z"
    }
   },
   "outputs": [],
   "source": [
    "assert licz('x^2+4x-21') == (3.0, -7.0)"
   ]
  },
  {
   "cell_type": "code",
   "execution_count": null,
   "metadata": {},
   "outputs": [],
   "source": []
  },
  {
   "cell_type": "code",
   "execution_count": null,
   "metadata": {
    "id": "93tjiYysLZQe"
   },
   "outputs": [],
   "source": [
    "**Zadanie 4** Utwórz funkcję wielu zmiennych wejściowych\n",
    "\n",
    "*   wykonaj obsługę wyjątków\n",
    "*   argumenty wejściowe funkcji to dane numeryczne które mogą stanowić:\n",
    "sekwencja liczb lub 1 lista zawierająca liczby lub 1 słownik którego wartości to liczby)\n",
    "*   korzystając z assert sprawdź poprawność działania funkcji dla:\n",
    "Dane wejsciowe: 1,2,3,4\n",
    "Wynik: 3 lub -7"
   ]
  }
 ],
 "metadata": {
  "anaconda-cloud": {},
  "colab": {
   "provenance": []
  },
  "hide_input": false,
  "kernelspec": {
   "display_name": "Python 3 (ipykernel)",
   "language": "python",
   "name": "python3"
  },
  "language_info": {
   "codemirror_mode": {
    "name": "ipython",
    "version": 3
   },
   "file_extension": ".py",
   "mimetype": "text/x-python",
   "name": "python",
   "nbconvert_exporter": "python",
   "pygments_lexer": "ipython3",
   "version": "3.11.7"
  },
  "nav_menu": {},
  "toc": {
   "nav_menu": {
    "height": "461px",
    "width": "252px"
   },
   "navigate_menu": true,
   "number_sections": true,
   "sideBar": true,
   "threshold": 4,
   "toc_cell": false,
   "toc_section_display": "block",
   "toc_window_display": false
  }
 },
 "nbformat": 4,
 "nbformat_minor": 1
}
