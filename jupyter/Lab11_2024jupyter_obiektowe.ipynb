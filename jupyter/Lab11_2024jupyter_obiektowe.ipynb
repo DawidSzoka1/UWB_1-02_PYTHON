{
 "cells": [
  {
   "cell_type": "markdown",
   "metadata": {
    "id": "9KHrZDDR6h60"
   },
   "source": [
    "#### dr Aneta Polewko-Klim"
   ]
  },
  {
   "cell_type": "markdown",
   "metadata": {
    "id": "O2PHSOsw6h66"
   },
   "source": [
    "# Laboratorium 11 - programowanie obiektowe"
   ]
  },
  {
   "cell_type": "markdown",
   "metadata": {
    "id": "jV9tgMAG6h67"
   },
   "source": [
    "# **Pojęcia podstawowe:** klasa, metoda, pole\n",
    "\n",
    "**Klasa**, z punktu widzenia programowania, jest to typ zmiennej.\n",
    "Natomiast w ujęciu projektowym jest to ogólna definicja pewnej grupy powiązanych ze sobą obiektów,\n",
    "które różnią się tożsamością. \n",
    "\n",
    "Klasa definiuje **metody**, czyli funkcjonalności, które są dostarczane przez obiekty. Poza tym definiuje również atrybuty, które są indywidualne (choć nie zawsze) dla konkretnych obiektów.\n",
    "\n",
    "Czym jest **obiekt**? Jest to konkretna zmienna danego typu czyli instancja danej klasy.\n",
    "\n",
    "Janek, Ania, Zosia to obiekty klasy Człowiek in. to poszczególne egzemplarze danej klasy czyli instancje. Każde z nich może spać, jeść, poruszać się i to są właśnie metody zdefiniowane w klasie Człowiek. Oprócz tego każdy człowiek posiada imię oraz datę urodzenia, jednak są one indywidualne dla każdego obiektu, czyli nie są bezpośrednio powiązane z klasą, a z jej instancją (obiektem).\n",
    "\n",
    "**Zapamiętaj**: w programowaniu  obiektowym  tworzymy/wykorzystujemy: klasy i obiekty.\n",
    "* Klasa  tworzy nowy typ. Obiekty to są  egzemplarze (instancje) danej klasy.\n",
    "* Klasa zawiera:\n",
    "\n",
    " a) elementy opisujące  stan (pola klasy)\n",
    "\n",
    " b) zachowania (metody klasy)\n",
    " \n",
    "Wyobraź sobie dwa różne zwierzęta: Samochód i Motyla  - to są dwie różne klasy\n",
    "\n",
    "Samochód: jeździ, wyrzuca spaliny, psuje się - to są metody klasy Samochód\n",
    "Motyl: lata, pije nektar  - to są metody klasy Motyl\n",
    "Samochód ma: masę, rok produkcji, typ silnika, pojemność silnika - to są pola/dane klasy Samochód\n",
    "Motyl ma: rozmiar skrzydeł, wagę, kolorystykę itp. - to są pola/dane klasy Motyl\n",
    "\n",
    "Ale jeżeli będziesz mieć  konkretny Samochód lub Motyla (np. Twoje własne)  to  będą one konkretnymi egzemplarzami, czyli obiektem klasy Samochód lub obiektem klasy Motyl"
   ]
  },
  {
   "cell_type": "markdown",
   "metadata": {
    "id": "6OLaj4PWkPgS"
   },
   "source": [
    "###**Przykład 1**\n",
    "\n",
    "Tworzymy klasę o nazwie Komputer1 oraz metodę o nazwie powitanie. Parametr ”self” to specjalny parametr (wpisuj go zawsze jako pierwszy argument w funkcji),\n",
    "który przekazuje do każdej metody obiekt klasy na jakiej ma operować."
   ]
  },
  {
   "cell_type": "code",
   "execution_count": 120,
   "metadata": {
    "colab": {
     "base_uri": "https://localhost:8080/"
    },
    "id": "zrI8I4YQkYrR",
    "outputId": "77f3d3d6-3aa6-40e7-f6b4-651d4c698a4d"
   },
   "outputs": [],
   "source": [
    "class Komputer1:\n",
    "    def powitanie(self):\n",
    "        print('Witaj użytkowniku to ja Twój PC')"
   ]
  },
  {
   "cell_type": "code",
   "execution_count": 58,
   "metadata": {
    "id": "rVkPq6TBka4p"
   },
   "outputs": [
    {
     "name": "stdout",
     "output_type": "stream",
     "text": [
      "Witaj użytkowniku to ja Twój PC\n"
     ]
    }
   ],
   "source": [
    "mojKomputer = Komputer1() # Tworzymy obiekt klasy Komputer -> struktura: nazwa_obiektu = nazwa_Klasy()\n",
    "mojKomputer.powitanie() # Wywołujemy metodę -> metodę powitanie na obiekcie mojKomputer"
   ]
  },
  {
   "cell_type": "markdown",
   "metadata": {
    "id": "iwWzo3yAlEcv"
   },
   "source": [
    "### Konstruktor \\__init__\n",
    "\n",
    "Metoda która jest wywoływana tylko raz (automatycznie podczas\n",
    "tworzenia przez nas obiektu) nazywana jest konstruktorem.\n",
    "\n",
    "Konstruktor możemy wykorzystać np. do ustalenia wartości początkowej pól klasy.\n",
    "\n",
    "Załóżmy, że tworzysz 3 różne obiekty (egzemplarze) dla klasy TV (kanał telewizyjny), są różne kanały telewizyjne, więc każdego obiektu możesz przypisać inną nazwę telewizji/kanału, ale możesz ustawić konkretne wartość/-ci początkowe tj. ustalasz 1 kanał do oglądania"
   ]
  },
  {
   "cell_type": "markdown",
   "metadata": {
    "id": "wKolO9GDkolU"
   },
   "source": [
    "###**Przykład 2**\n"
   ]
  },
  {
   "cell_type": "markdown",
   "metadata": {
    "id": "wLzg1H4LkpJh"
   },
   "source": [
    "Utworzymy klasę o nazwie Komputer w której zdefiniujemy pola: rodzajMatrycy, pojemnoscDysku w/w pola to zmienne proste.\n",
    "\n",
    "Ustawimy też początkowe wartości w/w własności dla przykładowej instancji/konkretnego obiektu."
   ]
  },
  {
   "cell_type": "code",
   "execution_count": 126,
   "metadata": {
    "id": "DaqeQc_zkvbZ"
   },
   "outputs": [],
   "source": [
    "class TV:\n",
    "    listaKanalow = ['TV1','Polsat','TVN']\n",
    "    numerKanalu = 0\n",
    "    def __init__(self):\n",
    "        print('Włączony kanał to: ' + self.listaKanalow[self.numerKanalu])\n"
   ]
  },
  {
   "cell_type": "code",
   "execution_count": 128,
   "metadata": {
    "colab": {
     "base_uri": "https://localhost:8080/"
    },
    "id": "1BLu_kXfdzHa",
    "outputId": "d10c3975-132c-407f-9670-252bce9630a5"
   },
   "outputs": [
    {
     "name": "stdout",
     "output_type": "stream",
     "text": [
      "Włączony kanał to: TV1\n"
     ]
    }
   ],
   "source": [
    "mojTV = TV() "
   ]
  },
  {
   "cell_type": "markdown",
   "metadata": {
    "id": "aVN_e1l7nEsY"
   },
   "source": [
    "### **Przykład 3**\n",
    "\n",
    "Nauczymy zmieniać wartości pól.\n",
    "\n",
    "Tworzymy klasę o nazwie Muzyka w której zdefiniujemy pole, które będzie listą zawierająca typy muzyki oraz pole nrTyp o wartości 0.\n",
    "\n",
    "Zdefiniujemy konstruktor który ustawi/wyświetli początkowy typ muzyki.\n",
    "\n",
    "Następnie zdefiniujemy metody ustawTypMuzyki, wyswietlTypMuzyki do zmiany wartości pola typ muzyki i wyświetlania wyniku."
   ]
  },
  {
   "cell_type": "code",
   "execution_count": 130,
   "metadata": {
    "id": "ePKluQ8SnTAX"
   },
   "outputs": [],
   "source": [
    "\n",
    "class Muzyka:\n",
    "    typyMuzyki = ['ROCK','POP','JAZZ','KLASYKA','DISCO_POLO']\n",
    "    nrTyp = 0\n",
    "    def __init__(self):\n",
    "        self.typyMuzyki[self.nrTyp]\n",
    "        # print('Początkowy typ muzyki to: ' + self.typyMuzyki[self.nrTyp])\n",
    "\n",
    "    def ustawTypMuzyki(self, wpisanyNumer):\n",
    "        self.nrTyp = wpisanyNumer\n",
    "        #print(self.typyMuzyki[self.nrTyp])\n",
    "\n",
    "    def wyswietlTypMuzyki(self):\n",
    "        print('Ustawiony typ muzyki to: ' + self.typyMuzyki[self.nrTyp])\n",
    "\n"
   ]
  },
  {
   "cell_type": "code",
   "execution_count": 132,
   "metadata": {
    "colab": {
     "base_uri": "https://localhost:8080/"
    },
    "id": "LCMZsU9RnkaV",
    "outputId": "4de20289-d093-4a5f-fec0-b8837d8857be"
   },
   "outputs": [
    {
     "name": "stdout",
     "output_type": "stream",
     "text": [
      "Ustawiony typ muzyki to: ROCK\n",
      "Ustawiony typ muzyki to: KLASYKA\n"
     ]
    }
   ],
   "source": [
    "mojaMuzyka1 = Muzyka()\n",
    "mojaMuzyka1.wyswietlTypMuzyki()\n",
    "mojaMuzyka1.ustawTypMuzyki(3)\n",
    "mojaMuzyka1.wyswietlTypMuzyki()"
   ]
  },
  {
   "cell_type": "markdown",
   "metadata": {
    "id": "PRwAwuPHntIE"
   },
   "source": [
    "A teraz odblokuj kod który jest jeszcze bardziej uniwersalny"
   ]
  },
  {
   "cell_type": "code",
   "execution_count": null,
   "metadata": {
    "id": "sbypRA7-nsjJ"
   },
   "outputs": [],
   "source": [
    "# mojaMuzyka2 = Muzyka()\n",
    "# mojaMuzyka2.ustawTypMuzyki(int(input(\"Wskaz numer typu muzyki od 1-5: \"))-1)\n",
    "# mojaMuzyka2.wyswietlTypMuzyki()"
   ]
  },
  {
   "cell_type": "markdown",
   "metadata": {
    "id": "Ey3vSTmBo5eW"
   },
   "source": [
    "##Przykład 4\n",
    "\n",
    "Utwórz klasę Prostokat, ktora bedzie miała możliwość obliczenia pola powierzchni prostokąta o bokach dowolnie zdefiniowanych przez użytkownika, początkowe wartości boków ustaw na 2 i 5\n",
    "\n",
    "Prześledź i porównaj 3 różne warianty rozwiazania, zastanów się który wariant jest najbardziej optymalny?"
   ]
  },
  {
   "cell_type": "markdown",
   "metadata": {
    "id": "A59zeBBypCuC"
   },
   "source": [
    "**Wariant 1**"
   ]
  },
  {
   "cell_type": "code",
   "execution_count": 134,
   "metadata": {
    "id": "jgPyuKY_pUz5"
   },
   "outputs": [],
   "source": [
    "class Prostokat:\n",
    "    def __init__(self):\n",
    "        self.bokA = 2\n",
    "        self.bokB = 5\n",
    "        #return(print('Poczatkowe wartosci bokow to a = ' + str(self.bokA) + ' oraz b = ',str(self.bokB)))\n",
    "\n",
    "    def podajBokA(self,podanybokA):\n",
    "        self.bokA = podanybokA\n",
    "\n",
    "    def podajBokB(self, podanybokB):\n",
    "        self.bokB = podanybokB\n",
    "        \n",
    "    def pole(self):\n",
    "        S = self.bokA * self.bokB\n",
    "        return(print('Pole wynosi: '+ str(S)))"
   ]
  },
  {
   "cell_type": "code",
   "execution_count": 136,
   "metadata": {
    "colab": {
     "base_uri": "https://localhost:8080/"
    },
    "id": "HUI9OH4FpdIc",
    "outputId": "3d26e949-3791-474f-e418-242b5045dfe3"
   },
   "outputs": [
    {
     "name": "stdout",
     "output_type": "stream",
     "text": [
      "Pole wynosi: 10\n",
      "Pole wynosi: 200\n"
     ]
    }
   ],
   "source": [
    "mojProstokat = Prostokat()\n",
    "mojProstokat.pole()  # bez ustawiania wartości boku A i B, program korzysta z wartości początkowych\n",
    "mojProstokat.podajBokA(10)  # ustawianie wartości boku A, początkowa wartość 2 zamieniana jest na 10\n",
    "mojProstokat.podajBokB(20)  # ustawianie wartości boku B, początkowa wartość 5 zamieniana jest na 20\n",
    "mojProstokat.pole()"
   ]
  },
  {
   "cell_type": "markdown",
   "metadata": {
    "id": "eOd_SThKpC0u"
   },
   "source": [
    "**Wariant 2**"
   ]
  },
  {
   "cell_type": "code",
   "execution_count": 90,
   "metadata": {
    "id": "QL5hG9alphoy"
   },
   "outputs": [],
   "source": [
    "class Prostokat():\n",
    "    def __init__(self):\n",
    "        self.bokA = 2\n",
    "        self.bokB = 5\n",
    "    def podajBoki(self,bokA,bokB):\n",
    "        self.bokA = bokA\n",
    "        self.bokB = bokB\n",
    "    def pole(self):\n",
    "        S = self.bokA * self.bokB\n",
    "        return(print('Pole wynosi: '+ str(S)))"
   ]
  },
  {
   "cell_type": "code",
   "execution_count": 92,
   "metadata": {
    "colab": {
     "base_uri": "https://localhost:8080/"
    },
    "id": "MsOPdOBSpqEa",
    "outputId": "8e486de5-8dc4-43d4-b9de-d15f8d381c39"
   },
   "outputs": [
    {
     "name": "stdout",
     "output_type": "stream",
     "text": [
      "Pole wynosi: 10\n",
      "Pole wynosi: 15\n"
     ]
    }
   ],
   "source": [
    "mojProstokat = Prostokat()\n",
    "mojProstokat.pole()\n",
    "mojProstokat.podajBoki(3,5)\n",
    "mojProstokat.pole()"
   ]
  },
  {
   "cell_type": "markdown",
   "metadata": {
    "id": "4_z7T0fmpC6u"
   },
   "source": [
    "**Wariant 3**"
   ]
  },
  {
   "cell_type": "code",
   "execution_count": 94,
   "metadata": {
    "id": "UbR6x-nno4Qx"
   },
   "outputs": [],
   "source": [
    "class Prostokat():\n",
    "    def __init__(self,bokA,bokB):\n",
    "        self.bokA = bokA\n",
    "        self.bokB = bokB\n",
    "    def pole(self):\n",
    "        S = self.bokA * self.bokB\n",
    "        return(print('Pole wynosi: '+ str(S)))"
   ]
  },
  {
   "cell_type": "code",
   "execution_count": 96,
   "metadata": {
    "id": "3Ud3Rypopywb"
   },
   "outputs": [
    {
     "name": "stdout",
     "output_type": "stream",
     "text": [
      "Pole wynosi: 100\n"
     ]
    }
   ],
   "source": [
    "mojProstokat = Prostokat(2,5)\n",
    "mojProstokat.pole()"
   ]
  },
  {
   "cell_type": "markdown",
   "metadata": {
    "id": "SDN4uqqoqBKL"
   },
   "source": []
  },
  {
   "cell_type": "markdown",
   "metadata": {
    "id": "gc5rMlszoK-B"
   },
   "source": [
    "###**Zadanie 1**\n",
    "\n",
    "Utwórz klasę o nazwie Egzamin w której:\n",
    "\n",
    "* zdefiniujemy pole Przedmioty, które będzie listą zawierającą nazwy przedmiotów które zdajesz w tym semestrze oraz pole nrPrzedmiotu,\n",
    "wartość tego pola odpowiada nr przedmiotu który zdajesz jako pierwszy w sesji\n",
    "\n",
    "* zdefiniujemy konstruktor który ustawi/wyświetli początkowy przedmiot który będziesz zdawał w sesji\n",
    "\n",
    "* zdefiniujemy 2 metody ustawPrzedmiot, wyswietlPrzedmiot do zmiany wartości w/w pola i wyświetlania wyniku\n",
    "\n",
    "* wstaw odpowiedni komentarz dla wyświetlanej odpowiedzi, przetestuj swój program.\n"
   ]
  },
  {
   "cell_type": "code",
   "execution_count": null,
   "metadata": {},
   "outputs": [],
   "source": [
    "class Egzamin:\n",
    "  przedmioty = ['jedne', 'dwa', 'trzy']\n",
    "  nr_przedmiotu = 0\n",
    "  def __init__(self):\n",
    "    self.pierwszy = self.przedmioty[self.nr_przedmiotu]\n",
    "  \n",
    "  def ustawPrzedmiot(self, ktory):\n",
    "    if ktory > len(self.przedmioty):\n",
    "      print('Nie ma')\n",
    "      return 0\n",
    "    self.pierwszy = self.przedmioty[ktory]\n",
    "    print('zmieniono')\n",
    "  \n",
    "  def wyswietlPrzedmiot(self):\n",
    "    print(self.pierwszy)"
   ]
  },
  {
   "cell_type": "code",
   "execution_count": null,
   "metadata": {},
   "outputs": [],
   "source": [
    "test = Egzamin()\n",
    "test.wyswietlPrzedmiot()\n",
    "test.ustawPrzedmiot(2)\n",
    "test.wyswietlPrzedmiot()"
   ]
  },
  {
   "cell_type": "markdown",
   "metadata": {
    "id": "pvvklCE9olEj"
   },
   "source": [
    "###**Zadanie 2** \n",
    "\n",
    "Utwórz klasę Koło, ktora bedzie miała możliwość obliczenia pola powierzchni i obwodu koła o promieniu dowolnie zdefiniowanym przez użytkownika, początkową wartość promienia ustaw na 1."
   ]
  },
  {
   "cell_type": "code",
   "execution_count": null,
   "metadata": {},
   "outputs": [],
   "source": [
    "class Kolo:\n",
    "  def __init__(self, r=1):\n",
    "    self.r = r\n",
    "  def pole(self):\n",
    "    return 3.14*pow(self.r)\n",
    "  def obwod(self):\n",
    "    return 2*3.14*self.r"
   ]
  },
  {
   "cell_type": "markdown",
   "metadata": {
    "id": "5jnEMR-AqWUy"
   },
   "source": [
    "###**Przykład 5**\n",
    "\n",
    "Utwórz klasę Ankieta, która będzie posiadała:\n",
    "\n",
    "* 5 pól: nazwisko, wiek, studia, lubi1, lubi2\n",
    "\n",
    "* 5 metod: pytanieDane, pytanieWiek, pytanieStudia, pytanieLubi, wyswietlAnkiete\n",
    "\n",
    "* zbierz informacje od conajmniej 2 użytkownikow, zadajac im pytania: o dane osobowe, wiek, kierunek studiow, o to co lubią robić w wolnym czasie; wyniki zapisz do listy/słownika.\n"
   ]
  },
  {
   "cell_type": "code",
   "execution_count": 13,
   "metadata": {
    "id": "5GJU_D3UqYgZ"
   },
   "outputs": [],
   "source": [
    "\n",
    "class Ankieta(object):\n",
    "    nazwisko=[]\n",
    "    wiek = []\n",
    "    studia = []\n",
    "    lubi1 = []\n",
    "    lubi2 = []\n",
    "\n",
    "    def __init__(self):\n",
    "        return(print('Nazwisko: - ', 'Wiek: -', 'Studia: -', 'Lubi: -'))\n",
    "\n",
    "    def pytanieDane(self,noweNazwisko):\n",
    "        self.nazwisko = noweNazwisko\n",
    "        return(self.nazwisko)\n",
    "\n",
    "    def pytanieDane(self, wiek1):\n",
    "        self.wiek = wiek1\n",
    "        return(self.wiek)\n",
    "\n",
    "    def pytanieStudia(self, studia1):\n",
    "        self.studia = studia1\n",
    "        return (self.studia)\n",
    "\n",
    "    def pytanieLubi(self, lubi11,lubi22):\n",
    "        self.lubi1 = lubi11\n",
    "        self.lubi2 = lubi22\n",
    "        return([self.lubi1, self.lubi2])\n",
    "        \n",
    "    def wyswietl(self):\n",
    "        mojSlownik = {'Imie_Nazwisko': self.nazwisko, 'Wiek': self.wiek, 'Studia_kierunek': self.studia,'Lubi': [self.lubi1, self.lubi2]}\n",
    "        print(mojSlownik)"
   ]
  },
  {
   "cell_type": "code",
   "execution_count": 14,
   "metadata": {
    "colab": {
     "base_uri": "https://localhost:8080/"
    },
    "id": "ZqHH0pnxqzqZ",
    "outputId": "22673c2c-a8b9-4ca6-d873-66d904a04fb0"
   },
   "outputs": [
    {
     "name": "stdout",
     "output_type": "stream",
     "text": [
      "Nazwisko: -  Wiek: - Studia: - Lubi: -\n",
      "{'Imie_Nazwisko': [], 'Wiek': [], 'Studia_kierunek': [], 'Lubi': [[], []]}\n"
     ]
    }
   ],
   "source": [
    "mojaAnkieta = Ankieta()\n",
    "mojaAnkieta.wyswietl()\n",
    "# #mojaAnkieta.nazwisko = 'Kowalska'\n",
    "# mojaAnkieta.nazwisko = input('Podaj nazwisko: ')\n",
    "# mojaAnkieta.wiek = 18\n",
    "# mojaAnkieta.studia = 'Informatyka'\n",
    "# mojaAnkieta.lubi1 = 'Spacery z psem'\n",
    "# mojaAnkieta.wyswietl()\n",
    "# mojaAnkieta.lubi2 = 'Muzyka'\n",
    "# mojaAnkieta.wyswietl()"
   ]
  },
  {
   "cell_type": "markdown",
   "metadata": {
    "id": "tmk7n--tq5Xe"
   },
   "source": [
    "###**Zadanie 3** \n",
    "Twoim zadaniem będzie zebranie informacji w formie ankiety od conajmniej 3 osób planujących swoje wakacje, zadaj odpowiednie pytania, zbierz interesujące Cię informacje.\n",
    "\n",
    "* utwórz klasę Wakacje\n",
    "* conajmniej 6 pól np.: wiek, płeć, kraj, miasto, transport, liczbaOsob.\n",
    "* conajmniej 4 metod: pytanieWiek, ..., pytanieliczbaOsob, wyswietlAnkiete\n",
    "* zbierz informacje od conajmniej 2 użytkownikow, zadajac im pytania: o dane osobowe, wiek, kierunek studiow, o to co lubią robić w wolnym czasie, a następnie wyniki zapisz do listy/słownika."
   ]
  },
  {
   "cell_type": "markdown",
   "metadata": {
    "id": "P0fhquM56h6-"
   },
   "source": [
    "## **Dziedziczenie  (Inheritance)**"
   ]
  },
  {
   "cell_type": "markdown",
   "metadata": {
    "id": "yolp2Il96h6_"
   },
   "source": [
    "###**Przykład 5**\n",
    "\n",
    "Utwórzmy 2 klasy"
   ]
  },
  {
   "cell_type": "code",
   "execution_count": 98,
   "metadata": {
    "colab": {
     "base_uri": "https://localhost:8080/"
    },
    "id": "b-CbNAyU6h6_",
    "outputId": "c67e441d-6cf3-4330-af43-138c42e796d2"
   },
   "outputs": [
    {
     "name": "stdout",
     "output_type": "stream",
     "text": [
      "1\n"
     ]
    }
   ],
   "source": [
    "class A(object):\n",
    "    \n",
    "    def __init__(self, a):\n",
    "        self.a = a\n",
    "        \n",
    "\n",
    "a_obj = A(1)\n",
    "print(a_obj.a)\n"
   ]
  },
  {
   "cell_type": "code",
   "execution_count": 100,
   "metadata": {
    "colab": {
     "base_uri": "https://localhost:8080/"
    },
    "id": "xySEKzPr6h6_",
    "outputId": "85def437-5430-49e1-9c92-cd0c44c0b21d"
   },
   "outputs": [
    {
     "name": "stdout",
     "output_type": "stream",
     "text": [
      "2\n"
     ]
    }
   ],
   "source": [
    "class B(A):  # niech klasa B dziedziczy własności klasy A, tak jest wygodniej bo nie musimy ponownie pisać tego samego kodu\n",
    "    pass\n",
    "\n",
    "\n",
    "b_obj = B(2)\n",
    "print(b_obj.a)"
   ]
  },
  {
   "cell_type": "markdown",
   "metadata": {
    "id": "Ri8PyORk6h7A"
   },
   "source": [
    "#### Tworzymy kolejną klasę o nazwie C"
   ]
  },
  {
   "cell_type": "code",
   "execution_count": 106,
   "metadata": {
    "colab": {
     "base_uri": "https://localhost:8080/"
    },
    "id": "2j9ABa-C6h7A",
    "outputId": "8c4416cd-583f-4d7f-a008-5fca0bf6d0a6"
   },
   "outputs": [
    {
     "name": "stdout",
     "output_type": "stream",
     "text": [
      "3\n"
     ]
    }
   ],
   "source": [
    "class C(object):\n",
    "    \n",
    "    def __init__(self, c):\n",
    "        self.c = c\n",
    "\n",
    "c_obj = C(3)\n",
    "print(c_obj.c)"
   ]
  },
  {
   "cell_type": "markdown",
   "metadata": {
    "id": "f-WZ0eTxo6lS"
   },
   "source": [
    "Tworzymy klasę D "
   ]
  },
  {
   "cell_type": "code",
   "execution_count": null,
   "metadata": {
    "colab": {
     "base_uri": "https://localhost:8080/"
    },
    "id": "Aoj5N5VupHMx",
    "outputId": "96a28ace-f1f2-4570-e6fd-74dbd0c73dcf"
   },
   "outputs": [],
   "source": [
    "class D(C, B):  # niech kolejna utworzona klasa D dziedziczy ten sam typ własności po klasie C i B, czy to możliwe???\n",
    "    pass        # Sprawdź blokując odpowiednio linie kodu z print(): \"Dziedziczenie po której klasie jest narzędne?\" \n",
    "\n",
    "\n",
    "obj_d = D(1)\n",
    "#print(obj_d.a)\n",
    "print(obj_d.c)"
   ]
  },
  {
   "cell_type": "code",
   "execution_count": null,
   "metadata": {},
   "outputs": [],
   "source": [
    "class D(B, C):  # niech kolejna utworzona klasa D dziedziczy ten sam typ własności po klasie C i B, czy to możliwe???\n",
    "    pass        # Sprawdź blokując odpowiednio linie kodu z print(): \"Dziedziczenie po której klasie jest narzędne?\" \n",
    "\n",
    "\n",
    "obj_d = D(1)\n",
    "print(obj_d.a)\n",
    "#print(obj_d.c)"
   ]
  },
  {
   "cell_type": "code",
   "execution_count": null,
   "metadata": {},
   "outputs": [],
   "source": [
    "class D(B, C):  # niech kolejna utworzona klasa D dziedziczy ten sam typ własności po klasie C i B, czy to możliwe???\n",
    "    pass        # Sprawdź blokując odpowiednio linie kodu z print(): \"Dziedziczenie po której klasie jest narzędne?\" \n",
    "\n",
    "\n",
    "obj_d = D(1)\n",
    "#print(obj_d.a)\n",
    "print(obj_d.c)"
   ]
  },
  {
   "cell_type": "markdown",
   "metadata": {
    "id": "oqaAsKB66h7B"
   },
   "source": [
    "Zapoznaj się uważnie z przykładami 6 i 7 dziedziczenia klas, przykłady pochodzą z serii 100 zadań które należy rozwiązać w Pythonie\n",
    "\n",
    "100+ Python challenging programming exercises\n",
    "\n",
    "https://github.com/zhiwehu/Python-programming-exercises/blob/master/100%2B%20Python%20challenging%20programming%20exercises.txt"
   ]
  },
  {
   "cell_type": "markdown",
   "metadata": {
    "id": "DRu6GiYUr1Nn"
   },
   "source": [
    "###**Przykład 6** \n",
    "\n",
    "Define a class named Shape and its subclass Square. \n",
    "The Square class has an init function which takes a length as argument. \n",
    "Both classes have a area function which can print the area of the shape where Shape's area is 0 by default."
   ]
  },
  {
   "cell_type": "code",
   "execution_count": 116,
   "metadata": {
    "id": "GG7jm0_f6h7B",
    "outputId": "8efab49a-15eb-46f9-ea99-e2a28ca66a54"
   },
   "outputs": [],
   "source": [
    "class Shape(object):\n",
    "    def __init__(self):\n",
    "        pass\n",
    "\n",
    "    def area(self):\n",
    "        return 0\n",
    "\n",
    "class Square(Shape):\n",
    "    def __init__(self, l):\n",
    "        Shape.__init__(self)           # zastępowanie metod o takiej samej nazwie zdefiniowanej w klasie-rodzicu \n",
    "        self.length = l\n",
    "\n",
    "    def area(self):\n",
    "        return self.length*self.length\n",
    "\n"
   ]
  },
  {
   "cell_type": "code",
   "execution_count": 118,
   "metadata": {
    "id": "_77chkROsbx5"
   },
   "outputs": [
    {
     "name": "stdout",
     "output_type": "stream",
     "text": [
      "9\n"
     ]
    }
   ],
   "source": [
    "instancjaSquare = Square(3)\n",
    "print(instancjaSquare.area())"
   ]
  },
  {
   "cell_type": "markdown",
   "metadata": {
    "id": "xTsIqthMsVhK"
   },
   "source": [
    "###**Przykład 7** \n",
    "\n",
    "Write two classes, Country and City, City has to inherit from Country. \n",
    "Add a function to City class, which will print out both country name and city name."
   ]
  },
  {
   "cell_type": "code",
   "execution_count": 39,
   "metadata": {
    "id": "CxPSd3eN6h7C"
   },
   "outputs": [],
   "source": [
    "class Country(object): #klasa nadrzędna\n",
    "    def __init__(self, kraj0):\n",
    "        self.kraj = kraj0\n",
    "\n",
    "class City(Country):\n",
    "    def __init__(self, miasto, kraj):   # konstruktor klasy bazowej\n",
    "        #super(City, self).__init__(kraj)   # odwołuję się do klasy nadrzędnej \n",
    "        super().__init__(kraj)              # linia 13 to odpowiednik linii 14 mamy dowolność\n",
    "        #Country.__init__(self, kraj)         # zamiast super możesz użyć nazwę klasy nadrzędnej\n",
    "        self.miasto = miasto\n",
    "        "
   ]
  },
  {
   "cell_type": "code",
   "execution_count": 40,
   "metadata": {
    "colab": {
     "base_uri": "https://localhost:8080/"
    },
    "id": "nrzZJOPXsY0i",
    "outputId": "ab78ab29-a30f-456f-fa5e-c707b19c2da7"
   },
   "outputs": [
    {
     "name": "stdout",
     "output_type": "stream",
     "text": [
      "Warszawa  and  Polska\n"
     ]
    }
   ],
   "source": [
    "instancja_City = City(\"Warszawa\",\"Polska\")\n",
    "print(instancja_City.miasto,' and ', instancja_City.kraj)"
   ]
  },
  {
   "cell_type": "markdown",
   "metadata": {
    "id": "ZG4hdR8QsiXZ"
   },
   "source": [
    "## Przesłanianie metod\n",
    "\n",
    "###**Przykład 8** \n",
    "\n",
    "* Utwórz bazową klasę Samochod, konstruktor ma parametry kolor i typ_silnika, klasa posiada jedną metodę print_parameters które wypisuje parametry kolor i typ_silnika\n",
    "* Utwórz klasę pochodą Jeep, która dziedziczy wszystko po klasie bazowej, posiada dodatkowy parametr w konstruktorze naped_na_kola oraz\n",
    "metodę print_parameters która wypisuje parametry kolor, typ_silnika i naped_na_kola.\n"
   ]
  },
  {
   "cell_type": "code",
   "execution_count": 19,
   "metadata": {
    "id": "ee9ax6NK1CUe"
   },
   "outputs": [],
   "source": [
    "\n",
    "\n",
    "class Samochod():\n",
    "  def __init__(self, kolor, typ_silnika):\n",
    "    self.kolor = kolor\n",
    "    self.typ_silnika = typ_silnika\n",
    "  \n",
    "  def print_parameters(self):\n",
    "    print('Parametry samochodu (1) kolor: {} (2) typ silnika: {}'.format(self.kolor, self.typ_silnika)\n",
    "  )\n",
    "    \n",
    "class Jeep(Samochod):\n",
    "  def __init__(self, kolor, typ_silnika, naped_na_kola):\n",
    "    Samochod.__init__(self, kolor, typ_silnika)\n",
    "    self.naped_na_kola = naped_na_kola\n",
    "      \n",
    "  def print_parameters(self):\n",
    "    Samochod.print_parameters(self)\n",
    "    print('Parametry samochodu (1) kolor: {} (2) typ silnika: {} (3) napęd na koła: {}'.format(self.kolor, self.typ_silnika, self.naped_na_kola)\n",
    "  )"
   ]
  },
  {
   "cell_type": "code",
   "execution_count": 20,
   "metadata": {
    "colab": {
     "base_uri": "https://localhost:8080/"
    },
    "id": "F-9gIz1ls1bU",
    "outputId": "14ac8b85-8d03-4fe3-d02d-dbeee4b4ba19"
   },
   "outputs": [
    {
     "name": "stdout",
     "output_type": "stream",
     "text": [
      "Parametry samochodu (1) kolor: biały (2) typ silnika: diesel\n",
      "Parametry samochodu (1) kolor: czarny (2) typ silnika: hybrydowy\n",
      "Parametry samochodu (1) kolor: czarny (2) typ silnika: hybrydowy (3) napęd na koła: 4\n"
     ]
    }
   ],
   "source": [
    "samochod_1 = Samochod('biały', 'diesel')\n",
    "samochod_1.print_parameters()\n",
    "\n",
    "samochod_2 = Jeep('czarny', 'hybrydowy', 4)\n",
    "samochod_2.print_parameters()"
   ]
  },
  {
   "cell_type": "markdown",
   "metadata": {
    "id": "-82QLdCR6h7C"
   },
   "source": [
    "###**Zadanie 4** \n",
    "#### Utwórz klasę Koło, konstruktor ma jeden parametr r tj. promień, napisz metodę która obliczy pole powierzchni koła, zadanie wykonaj na 2 sposoby tj. bez obsługi wyjątków i z obsługą wyjątków (uwaga w zadaniu użyj przynajmniej raz atrybut prywatny) \n"
   ]
  },
  {
   "cell_type": "code",
   "execution_count": 5,
   "metadata": {},
   "outputs": [],
   "source": [
    "class Kolo:\n",
    "    def __init__(self, r):\n",
    "        self.r = r\n",
    "    def pole(self):\n",
    "        p = pow(self.r) * 3.14\n",
    "        return (print(f'Pole kola: {p}'))\n",
    "\n",
    "\n",
    "class Kolo2:\n",
    "    def __init__(self, r):\n",
    "        self._r = r\n",
    "    def pole(self):\n",
    "        try:\n",
    "            r = float(self._r)\n",
    "        except ValueError as e:\n",
    "            print(e)\n",
    "        except TypeError as e:\n",
    "            print(e)\n",
    "        else:\n",
    "            print(f'Pole kola: {pow(r) * 3.14}')"
   ]
  },
  {
   "cell_type": "markdown",
   "metadata": {
    "id": "d1sbwW936h7D"
   },
   "source": [
    "###**Zadanie 5** \n",
    "#### Utwórz klasę bazową Osoba, oraz dwie klasy pochodne Kobieta i Mezczyzna wszystkie klasy posiadają metodę print_plec która wypisze \"female\" dla Klasy Kobieta, a \"male\" dla klasy Mezczyzna, lub wariant \"unknown\".\n",
    "\n",
    "Potencjalna dodatkowa modyfikacja: w zadaniu monitoruj liczbę osób/utworzonych obiektów, użyj metody statycznej"
   ]
  },
  {
   "cell_type": "code",
   "execution_count": 6,
   "metadata": {},
   "outputs": [],
   "source": [
    "class Osoba():\n",
    "    def print_plec(self):\n",
    "        print('unknown')"
   ]
  },
  {
   "cell_type": "code",
   "execution_count": 11,
   "metadata": {},
   "outputs": [],
   "source": [
    "class Kobieta(Osoba):\n",
    "    def print_plec(self):\n",
    "        super().print_plec()\n",
    "        print('female')"
   ]
  },
  {
   "cell_type": "code",
   "execution_count": 13,
   "metadata": {},
   "outputs": [],
   "source": [
    "class Mezczyzna(Osoba):\n",
    "    def print_plec(self):\n",
    "        super().print_plec()\n",
    "        print('male')"
   ]
  },
  {
   "cell_type": "code",
   "execution_count": 14,
   "metadata": {},
   "outputs": [
    {
     "name": "stdout",
     "output_type": "stream",
     "text": [
      "unknown\n",
      "male\n",
      "unknown\n",
      "female\n"
     ]
    }
   ],
   "source": [
    "Mezczyzna().print_plec()\n",
    "Kobieta().print_plec()"
   ]
  },
  {
   "cell_type": "markdown",
   "metadata": {
    "id": "yhi2XxRd6h7D"
   },
   "source": [
    "###**Zadanie 6** \n",
    "#### Utwórz klasę Wielościan, konstruktor klasy ma jeden parametr h tj. wysokość, napisz 4 metody: obliczającą pole powierzchni całkowitej bryły (2 x pole podstawy + pole powierzchni bocznej), obliczającą pole powierzchni bocznej (obwód podstawy x wysokość), obliczającą objętość (pole podstawy x wysokość) i obwód podstawy.  Następnie utwórz dwie dodatkowe 2 klasy: prostopadłościan i walec, który dziedziczy pole r oraz które nadpisują tylko 2 metody klasy Wielościan tj. obliczające obwód podstawy + pola powierzchni podstawy. Przetestuj program obliczając pola powierzchni i objętości walca i prostopadłościanu dla wartości podanych przez użytkownika (a,b lub r).\n",
    "\n",
    "Potencjalna dodatkowa modyfikacja: wykonaj dokumentację napisanego kodu"
   ]
  },
  {
   "cell_type": "code",
   "execution_count": 43,
   "metadata": {},
   "outputs": [],
   "source": [
    "class Wieloscian():\n",
    "    def __init__(self, h):\n",
    "        self.h = h\n",
    "    def pole_p(self):\n",
    "        pass\n",
    "    def pole_c(self):\n",
    "        return 2* self.pole_p() + self.pole_b()\n",
    "    def pole_b(self):\n",
    "        return self.obwod_p() * self.h\n",
    "    def obj(self):\n",
    "        return self.pole_p() * self.h\n",
    "    def obwod_p(self):\n",
    "        pass\n",
    "        "
   ]
  },
  {
   "cell_type": "code",
   "execution_count": 48,
   "metadata": {},
   "outputs": [],
   "source": [
    "class Prostopadloscian(Wieloscian):\n",
    "    def __init__(self, h, a, b):\n",
    "        super().__init__(h)\n",
    "        self.a = a\n",
    "        self.b = b\n",
    "    def pole_p(self):\n",
    "        return self.a * self.b\n",
    "    def obwod_p(self):\n",
    "        return 2 * self.a + 2 * self.b\n"
   ]
  },
  {
   "cell_type": "code",
   "execution_count": 49,
   "metadata": {},
   "outputs": [],
   "source": [
    "class Walec(Wieloscian):\n",
    "    def __init__(self, h, r):\n",
    "        super().__init__(h) \n",
    "        self.r = r\n",
    "    def pole_p(self):\n",
    "        return 3.14 * pow(self.r, 2)\n",
    "    def obwod_p(self):\n",
    "        return 2 * 3.14 * self.r"
   ]
  },
  {
   "cell_type": "code",
   "execution_count": 50,
   "metadata": {},
   "outputs": [
    {
     "name": "stdout",
     "output_type": "stream",
     "text": [
      "226.08\n",
      "48\n"
     ]
    }
   ],
   "source": [
    "walec = Walec(5, 4)\n",
    "print(walec.pole_c())\n",
    "\n",
    "prostopadloscia = Prostopadloscian(5, 2, 2)\n",
    "print(prostopadloscia.pole_c())"
   ]
  },
  {
   "cell_type": "markdown",
   "metadata": {
    "id": "maT_f6eIKI_S"
   },
   "source": [
    "## **Klasa abstrakcyjna**\n",
    "klasa w której nie możemy lub nie chcemy tworzyć obiektów. Klasę abstrakcyjną od standardowej klasy odróżnia posiadanie jednej lub więcej abstrakcyjnych metod, zaś abstrakcyjna metoda to metoda zadeklarowana w klasie i pozbawiona definicji. "
   ]
  },
  {
   "cell_type": "markdown",
   "metadata": {
    "id": "-UIS4aiG67aA"
   },
   "source": [
    "## **Polimorfizm** \n",
    "Oznacza, że:\n",
    "a) klasa dziedzicząca może być użyta wszędzie tam, gdzie może być użyta klasa bazowa. \n",
    "b) instancja klasy dziedziczącej jest uznawana za instancję klasy bazowej\n",
    "\n",
    "* Zapisywanie jednej metody pod różnymi postaciami, a jest efekt może być różny;\n"
   ]
  },
  {
   "cell_type": "markdown",
   "metadata": {
    "id": "0LNAfQ6Q7LbZ"
   },
   "source": [
    "###**Przykład 9**"
   ]
  },
  {
   "cell_type": "code",
   "execution_count": 54,
   "metadata": {
    "colab": {
     "base_uri": "https://localhost:8080/"
    },
    "id": "UqW9y1cN7S24",
    "outputId": "eecf2109-5e4b-45d4-f4b9-2705aa7404bc"
   },
   "outputs": [
    {
     "name": "stdout",
     "output_type": "stream",
     "text": [
      "Parametry samochodu (1) kolor: czarny (2) typ silnika: hybrydowy\n",
      "Parametry samochodu (1) kolor: czerwony (2) typ silnika: benzyna\n",
      "A jeep jedzie sobie wrrr wrrr wrrr\n",
      "Samochód jedzie: brum brum brum\n",
      "a fiacik robi jeszcze pip pip pip\n"
     ]
    }
   ],
   "source": [
    "class Samochod():\n",
    "  def __init__(self, kolor, typ_silnika):\n",
    "    self.kolor = kolor\n",
    "    self.typ_silnika = typ_silnika\n",
    "  \n",
    "  def print_parameters(self):\n",
    "    print('Parametry samochodu (1) kolor: {} (2) typ silnika: {}'.format(self.kolor, self.typ_silnika))\n",
    "\n",
    "  def print_sound(self):\n",
    "    print('Samochód jedzie: brum brum brum')\n",
    "    \n",
    "class Jeep(Samochod):\n",
    "  def __init__(self, kolor, typ_silnika):\n",
    "    super().__init__(kolor, typ_silnika)\n",
    "      \n",
    "  def print_parameters(self):\n",
    "    super().print_parameters()\n",
    "\n",
    "  def print_sound(self):\n",
    "    print('A jeep jedzie sobie wrrr wrrr wrrr')\n",
    "    \n",
    "   \n",
    "class Fiat(Samochod):\n",
    "  def __init__(self,kolor, typ_silnika):\n",
    "    super().__init__(kolor, typ_silnika)\n",
    "      \n",
    "  def print_parameters(self):\n",
    "    super().print_parameters()\n",
    "\n",
    "  def print_sound(self):\n",
    "    super().print_sound(  )\n",
    "    print('a fiacik robi jeszcze pip pip pip')\n",
    "\n",
    "# Tworzymy 2 obiekty różnych klas\n",
    "\n",
    "samochod_1 = Jeep('czarny', 'hybrydowy')\n",
    "samochod_2 = Fiat('czerwony', 'benzyna')\n",
    "\n",
    "samochody = [samochod_1, samochod_2]\n",
    "\n",
    "for obiekt in samochody:\n",
    "    obiekt.print_parameters()\n",
    "\n",
    "\n",
    "for obiekt in samochody:\n",
    "    obiekt.print_sound()\n",
    "\n"
   ]
  },
  {
   "cell_type": "code",
   "execution_count": null,
   "metadata": {
    "colab": {
     "base_uri": "https://localhost:8080/"
    },
    "id": "4ivhs-zst3PZ",
    "outputId": "c29509af-f033-4680-85d2-1eebd3b540df"
   },
   "outputs": [
    {
     "name": "stdout",
     "output_type": "stream",
     "text": [
      "True\n",
      "True\n"
     ]
    }
   ],
   "source": [
    "# Sprawdźmy czy nasze obiekty należą do klasy Samochód\n",
    "\n",
    "for obiekt in samochody:\n",
    "    print(isinstance(obiekt, Samochod))"
   ]
  }
 ],
 "metadata": {
  "anaconda-cloud": {},
  "colab": {
   "provenance": []
  },
  "kernelspec": {
   "display_name": "Python 3 (ipykernel)",
   "language": "python",
   "name": "python3"
  },
  "language_info": {
   "codemirror_mode": {
    "name": "ipython",
    "version": 3
   },
   "file_extension": ".py",
   "mimetype": "text/x-python",
   "name": "python",
   "nbconvert_exporter": "python",
   "pygments_lexer": "ipython3",
   "version": "3.11.7"
  }
 },
 "nbformat": 4,
 "nbformat_minor": 4
}
